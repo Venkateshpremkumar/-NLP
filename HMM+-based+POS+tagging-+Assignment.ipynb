{
 "cells": [
  {
   "cell_type": "markdown",
   "metadata": {},
   "source": [
    "## POS tagging using modified Viterbi"
   ]
  },
  {
   "cell_type": "markdown",
   "metadata": {},
   "source": [
    "### Data Preparation"
   ]
  },
  {
   "cell_type": "code",
   "execution_count": 1,
   "metadata": {},
   "outputs": [],
   "source": [
    "#Importing libraries\n",
    "\n",
    "import nltk, re, pprint\n",
    "import numpy as np\n",
    "import pandas as pd\n",
    "import requests\n",
    "import matplotlib.pyplot as plt\n",
    "import seaborn as sns\n",
    "import pprint, time\n",
    "import random\n",
    "from sklearn.model_selection import train_test_split\n",
    "from nltk.tokenize import word_tokenize\n",
    "import codecs"
   ]
  },
  {
   "cell_type": "code",
   "execution_count": 2,
   "metadata": {},
   "outputs": [],
   "source": [
    "# reading the Treebank tagged sentences\n",
    "nltk_data = list(nltk.corpus.treebank.tagged_sents(tagset='universal'))"
   ]
  },
  {
   "cell_type": "code",
   "execution_count": 3,
   "metadata": {},
   "outputs": [
    {
     "name": "stdout",
     "output_type": "stream",
     "text": [
      "[[('Pierre', 'NOUN'), ('Vinken', 'NOUN'), (',', '.'), ('61', 'NUM'), ('years', 'NOUN'), ('old', 'ADJ'), (',', '.'), ('will', 'VERB'), ('join', 'VERB'), ('the', 'DET'), ('board', 'NOUN'), ('as', 'ADP'), ('a', 'DET'), ('nonexecutive', 'ADJ'), ('director', 'NOUN'), ('Nov.', 'NOUN'), ('29', 'NUM'), ('.', '.')], [('Mr.', 'NOUN'), ('Vinken', 'NOUN'), ('is', 'VERB'), ('chairman', 'NOUN'), ('of', 'ADP'), ('Elsevier', 'NOUN'), ('N.V.', 'NOUN'), (',', '.'), ('the', 'DET'), ('Dutch', 'NOUN'), ('publishing', 'VERB'), ('group', 'NOUN'), ('.', '.')], [('Rudolph', 'NOUN'), ('Agnew', 'NOUN'), (',', '.'), ('55', 'NUM'), ('years', 'NOUN'), ('old', 'ADJ'), ('and', 'CONJ'), ('former', 'ADJ'), ('chairman', 'NOUN'), ('of', 'ADP'), ('Consolidated', 'NOUN'), ('Gold', 'NOUN'), ('Fields', 'NOUN'), ('PLC', 'NOUN'), (',', '.'), ('was', 'VERB'), ('named', 'VERB'), ('*-1', 'X'), ('a', 'DET'), ('nonexecutive', 'ADJ'), ('director', 'NOUN'), ('of', 'ADP'), ('this', 'DET'), ('British', 'ADJ'), ('industrial', 'ADJ'), ('conglomerate', 'NOUN'), ('.', '.')], [('A', 'DET'), ('form', 'NOUN'), ('of', 'ADP'), ('asbestos', 'NOUN'), ('once', 'ADV'), ('used', 'VERB'), ('*', 'X'), ('*', 'X'), ('to', 'PRT'), ('make', 'VERB'), ('Kent', 'NOUN'), ('cigarette', 'NOUN'), ('filters', 'NOUN'), ('has', 'VERB'), ('caused', 'VERB'), ('a', 'DET'), ('high', 'ADJ'), ('percentage', 'NOUN'), ('of', 'ADP'), ('cancer', 'NOUN'), ('deaths', 'NOUN'), ('among', 'ADP'), ('a', 'DET'), ('group', 'NOUN'), ('of', 'ADP'), ('workers', 'NOUN'), ('exposed', 'VERB'), ('*', 'X'), ('to', 'PRT'), ('it', 'PRON'), ('more', 'ADV'), ('than', 'ADP'), ('30', 'NUM'), ('years', 'NOUN'), ('ago', 'ADP'), (',', '.'), ('researchers', 'NOUN'), ('reported', 'VERB'), ('0', 'X'), ('*T*-1', 'X'), ('.', '.')], [('The', 'DET'), ('asbestos', 'NOUN'), ('fiber', 'NOUN'), (',', '.'), ('crocidolite', 'NOUN'), (',', '.'), ('is', 'VERB'), ('unusually', 'ADV'), ('resilient', 'ADJ'), ('once', 'ADP'), ('it', 'PRON'), ('enters', 'VERB'), ('the', 'DET'), ('lungs', 'NOUN'), (',', '.'), ('with', 'ADP'), ('even', 'ADV'), ('brief', 'ADJ'), ('exposures', 'NOUN'), ('to', 'PRT'), ('it', 'PRON'), ('causing', 'VERB'), ('symptoms', 'NOUN'), ('that', 'DET'), ('*T*-1', 'X'), ('show', 'VERB'), ('up', 'PRT'), ('decades', 'NOUN'), ('later', 'ADJ'), (',', '.'), ('researchers', 'NOUN'), ('said', 'VERB'), ('0', 'X'), ('*T*-2', 'X'), ('.', '.')], [('Lorillard', 'NOUN'), ('Inc.', 'NOUN'), (',', '.'), ('the', 'DET'), ('unit', 'NOUN'), ('of', 'ADP'), ('New', 'ADJ'), ('York-based', 'ADJ'), ('Loews', 'NOUN'), ('Corp.', 'NOUN'), ('that', 'DET'), ('*T*-2', 'X'), ('makes', 'VERB'), ('Kent', 'NOUN'), ('cigarettes', 'NOUN'), (',', '.'), ('stopped', 'VERB'), ('using', 'VERB'), ('crocidolite', 'NOUN'), ('in', 'ADP'), ('its', 'PRON'), ('Micronite', 'NOUN'), ('cigarette', 'NOUN'), ('filters', 'NOUN'), ('in', 'ADP'), ('1956', 'NUM'), ('.', '.')], [('Although', 'ADP'), ('preliminary', 'ADJ'), ('findings', 'NOUN'), ('were', 'VERB'), ('reported', 'VERB'), ('*-2', 'X'), ('more', 'ADV'), ('than', 'ADP'), ('a', 'DET'), ('year', 'NOUN'), ('ago', 'ADP'), (',', '.'), ('the', 'DET'), ('latest', 'ADJ'), ('results', 'NOUN'), ('appear', 'VERB'), ('in', 'ADP'), ('today', 'NOUN'), (\"'s\", 'PRT'), ('New', 'NOUN'), ('England', 'NOUN'), ('Journal', 'NOUN'), ('of', 'ADP'), ('Medicine', 'NOUN'), (',', '.'), ('a', 'DET'), ('forum', 'NOUN'), ('likely', 'ADJ'), ('*', 'X'), ('to', 'PRT'), ('bring', 'VERB'), ('new', 'ADJ'), ('attention', 'NOUN'), ('to', 'PRT'), ('the', 'DET'), ('problem', 'NOUN'), ('.', '.')], [('A', 'DET'), ('Lorillard', 'NOUN'), ('spokewoman', 'NOUN'), ('said', 'VERB'), (',', '.'), ('``', '.'), ('This', 'DET'), ('is', 'VERB'), ('an', 'DET'), ('old', 'ADJ'), ('story', 'NOUN'), ('.', '.')], [('We', 'PRON'), (\"'re\", 'VERB'), ('talking', 'VERB'), ('about', 'ADP'), ('years', 'NOUN'), ('ago', 'ADP'), ('before', 'ADP'), ('anyone', 'NOUN'), ('heard', 'VERB'), ('of', 'ADP'), ('asbestos', 'NOUN'), ('having', 'VERB'), ('any', 'DET'), ('questionable', 'ADJ'), ('properties', 'NOUN'), ('.', '.')], [('There', 'DET'), ('is', 'VERB'), ('no', 'DET'), ('asbestos', 'NOUN'), ('in', 'ADP'), ('our', 'PRON'), ('products', 'NOUN'), ('now', 'ADV'), ('.', '.'), (\"''\", '.')], [('Neither', 'DET'), ('Lorillard', 'NOUN'), ('nor', 'CONJ'), ('the', 'DET'), ('researchers', 'NOUN'), ('who', 'PRON'), ('*T*-3', 'X'), ('studied', 'VERB'), ('the', 'DET'), ('workers', 'NOUN'), ('were', 'VERB'), ('aware', 'ADJ'), ('of', 'ADP'), ('any', 'DET'), ('research', 'NOUN'), ('on', 'ADP'), ('smokers', 'NOUN'), ('of', 'ADP'), ('the', 'DET'), ('Kent', 'NOUN'), ('cigarettes', 'NOUN'), ('.', '.')], [('``', '.'), ('We', 'PRON'), ('have', 'VERB'), ('no', 'DET'), ('useful', 'ADJ'), ('information', 'NOUN'), ('on', 'ADP'), ('whether', 'ADP'), ('users', 'NOUN'), ('are', 'VERB'), ('at', 'ADP'), ('risk', 'NOUN'), (',', '.'), (\"''\", '.'), ('said', 'VERB'), ('*T*-1', 'X'), ('James', 'NOUN'), ('A.', 'NOUN'), ('Talcott', 'NOUN'), ('of', 'ADP'), ('Boston', 'NOUN'), (\"'s\", 'PRT'), ('Dana-Farber', 'NOUN'), ('Cancer', 'NOUN'), ('Institute', 'NOUN'), ('.', '.')], [('Dr.', 'NOUN'), ('Talcott', 'NOUN'), ('led', 'VERB'), ('a', 'DET'), ('team', 'NOUN'), ('of', 'ADP'), ('researchers', 'NOUN'), ('from', 'ADP'), ('the', 'DET'), ('National', 'NOUN'), ('Cancer', 'NOUN'), ('Institute', 'NOUN'), ('and', 'CONJ'), ('the', 'DET'), ('medical', 'ADJ'), ('schools', 'NOUN'), ('of', 'ADP'), ('Harvard', 'NOUN'), ('University', 'NOUN'), ('and', 'CONJ'), ('Boston', 'NOUN'), ('University', 'NOUN'), ('.', '.')], [('The', 'DET'), ('Lorillard', 'NOUN'), ('spokeswoman', 'NOUN'), ('said', 'VERB'), ('0', 'X'), ('asbestos', 'NOUN'), ('was', 'VERB'), ('used', 'VERB'), ('*-1', 'X'), ('in', 'ADP'), ('``', '.'), ('very', 'ADV'), ('modest', 'ADJ'), ('amounts', 'NOUN'), (\"''\", '.'), ('in', 'ADP'), ('*', 'X'), ('making', 'VERB'), ('paper', 'NOUN'), ('for', 'ADP'), ('the', 'DET'), ('filters', 'NOUN'), ('in', 'ADP'), ('the', 'DET'), ('early', 'ADJ'), ('1950s', 'NUM'), ('and', 'CONJ'), ('replaced', 'VERB'), ('*-1', 'X'), ('with', 'ADP'), ('a', 'DET'), ('different', 'ADJ'), ('type', 'NOUN'), ('of', 'ADP'), ('filter', 'NOUN'), ('in', 'ADP'), ('1956', 'NUM'), ('.', '.')], [('From', 'ADP'), ('1953', 'NUM'), ('to', 'PRT'), ('1955', 'NUM'), (',', '.'), ('9.8', 'NUM'), ('billion', 'NUM'), ('Kent', 'NOUN'), ('cigarettes', 'NOUN'), ('with', 'ADP'), ('the', 'DET'), ('filters', 'NOUN'), ('were', 'VERB'), ('sold', 'VERB'), ('*-3', 'X'), (',', '.'), ('the', 'DET'), ('company', 'NOUN'), ('said', 'VERB'), ('0', 'X'), ('*T*-1', 'X'), ('.', '.')], [('Among', 'ADP'), ('33', 'NUM'), ('men', 'NOUN'), ('who', 'PRON'), ('*T*-4', 'X'), ('worked', 'VERB'), ('closely', 'ADV'), ('with', 'ADP'), ('the', 'DET'), ('substance', 'NOUN'), (',', '.'), ('28', 'NUM'), ('*ICH*-1', 'X'), ('have', 'VERB'), ('died', 'VERB'), ('--', '.'), ('more', 'ADJ'), ('than', 'ADP'), ('three', 'NUM'), ('times', 'NOUN'), ('the', 'DET'), ('expected', 'VERB'), ('number', 'NOUN'), ('.', '.')], [('Four', 'NUM'), ('of', 'ADP'), ('the', 'DET'), ('five', 'NUM'), ('surviving', 'VERB'), ('workers', 'NOUN'), ('have', 'VERB'), ('asbestos-related', 'ADJ'), ('diseases', 'NOUN'), (',', '.'), ('including', 'VERB'), ('three', 'NUM'), ('with', 'ADP'), ('recently', 'ADV'), ('diagnosed', 'VERB'), ('cancer', 'NOUN'), ('.', '.')], [('The', 'DET'), ('total', 'NOUN'), ('of', 'ADP'), ('18', 'NUM'), ('deaths', 'NOUN'), ('from', 'ADP'), ('malignant', 'ADJ'), ('mesothelioma', 'NOUN'), (',', '.'), ('lung', 'NOUN'), ('cancer', 'NOUN'), ('and', 'CONJ'), ('asbestosis', 'NOUN'), ('was', 'VERB'), ('far', 'ADV'), ('higher', 'ADJ'), ('than', 'ADP'), ('*', 'X'), ('expected', 'VERB'), ('*?*', 'X'), (',', '.'), ('the', 'DET'), ('researchers', 'NOUN'), ('said', 'VERB'), ('0', 'X'), ('*T*-1', 'X'), ('.', '.')], [('``', '.'), ('The', 'DET'), ('morbidity', 'NOUN'), ('rate', 'NOUN'), ('is', 'VERB'), ('a', 'DET'), ('striking', 'ADJ'), ('finding', 'NOUN'), ('among', 'ADP'), ('those', 'DET'), ('of', 'ADP'), ('us', 'PRON'), ('who', 'PRON'), ('*T*-5', 'X'), ('study', 'VERB'), ('asbestos-related', 'ADJ'), ('diseases', 'NOUN'), (',', '.'), (\"''\", '.'), ('said', 'VERB'), ('*T*-1', 'X'), ('Dr.', 'NOUN'), ('Talcott', 'NOUN'), ('.', '.')], [('The', 'DET'), ('percentage', 'NOUN'), ('of', 'ADP'), ('lung', 'NOUN'), ('cancer', 'NOUN'), ('deaths', 'NOUN'), ('among', 'ADP'), ('the', 'DET'), ('workers', 'NOUN'), ('at', 'ADP'), ('the', 'DET'), ('West', 'NOUN'), ('Groton', 'NOUN'), (',', '.'), ('Mass.', 'NOUN'), (',', '.'), ('paper', 'NOUN'), ('factory', 'NOUN'), ('appears', 'VERB'), ('*-1', 'X'), ('to', 'PRT'), ('be', 'VERB'), ('the', 'DET'), ('highest', 'ADJ'), ('for', 'ADP'), ('any', 'DET'), ('asbestos', 'NOUN'), ('workers', 'NOUN'), ('studied', 'VERB'), ('*', 'X'), ('in', 'ADP'), ('Western', 'ADJ'), ('industrialized', 'VERB'), ('countries', 'NOUN'), (',', '.'), ('he', 'PRON'), ('said', 'VERB'), ('0', 'X'), ('*T*-2', 'X'), ('.', '.')], [('The', 'DET'), ('plant', 'NOUN'), (',', '.'), ('which', 'DET'), ('*T*-1', 'X'), ('is', 'VERB'), ('owned', 'VERB'), ('*-4', 'X'), ('by', 'ADP'), ('Hollingsworth', 'NOUN'), ('&', 'CONJ'), ('Vose', 'NOUN'), ('Co.', 'NOUN'), (',', '.'), ('was', 'VERB'), ('under', 'ADP'), ('contract', 'NOUN'), ('*ICH*-2', 'X'), ('with', 'ADP'), ('Lorillard', 'NOUN'), ('*', 'X'), ('to', 'PRT'), ('make', 'VERB'), ('the', 'DET'), ('cigarette', 'NOUN'), ('filters', 'NOUN'), ('.', '.')], [('The', 'DET'), ('finding', 'NOUN'), ('probably', 'ADV'), ('will', 'VERB'), ('support', 'VERB'), ('those', 'DET'), ('who', 'PRON'), ('*T*-6', 'X'), ('argue', 'VERB'), ('that', 'ADP'), ('the', 'DET'), ('U.S.', 'NOUN'), ('should', 'VERB'), ('regulate', 'VERB'), ('the', 'DET'), ('class', 'NOUN'), ('of', 'ADP'), ('asbestos', 'NOUN'), ('including', 'VERB'), ('crocidolite', 'NOUN'), ('more', 'ADV'), ('stringently', 'ADV'), ('than', 'ADP'), ('the', 'DET'), ('common', 'ADJ'), ('kind', 'NOUN'), ('of', 'ADP'), ('asbestos', 'NOUN'), (',', '.'), ('chrysotile', 'NOUN'), (',', '.'), ('found', 'VERB'), ('*', 'X'), ('in', 'ADP'), ('most', 'ADJ'), ('schools', 'NOUN'), ('and', 'CONJ'), ('other', 'ADJ'), ('buildings', 'NOUN'), (',', '.'), ('Dr.', 'NOUN'), ('Talcott', 'NOUN'), ('said', 'VERB'), ('0', 'X'), ('*T*-1', 'X'), ('.', '.')], [('The', 'DET'), ('U.S.', 'NOUN'), ('is', 'VERB'), ('one', 'NUM'), ('of', 'ADP'), ('the', 'DET'), ('few', 'ADJ'), ('industrialized', 'VERB'), ('nations', 'NOUN'), ('that', 'DET'), ('*T*-7', 'X'), ('does', 'VERB'), (\"n't\", 'ADV'), ('have', 'VERB'), ('a', 'DET'), ('higher', 'ADJ'), ('standard', 'NOUN'), ('of', 'ADP'), ('regulation', 'NOUN'), ('for', 'ADP'), ('the', 'DET'), ('smooth', 'ADJ'), (',', '.'), ('needle-like', 'ADJ'), ('fibers', 'NOUN'), ('such', 'ADJ'), ('as', 'ADP'), ('crocidolite', 'NOUN'), ('that', 'DET'), ('*T*-1', 'X'), ('are', 'VERB'), ('classified', 'VERB'), ('*-5', 'X'), ('as', 'ADP'), ('amphobiles', 'NOUN'), (',', '.'), ('according', 'VERB'), ('to', 'PRT'), ('Brooke', 'NOUN'), ('T.', 'NOUN'), ('Mossman', 'NOUN'), (',', '.'), ('a', 'DET'), ('professor', 'NOUN'), ('of', 'ADP'), ('pathlogy', 'NOUN'), ('at', 'ADP'), ('the', 'DET'), ('University', 'NOUN'), ('of', 'ADP'), ('Vermont', 'NOUN'), ('College', 'NOUN'), ('of', 'ADP'), ('Medicine', 'NOUN'), ('.', '.')], [('More', 'ADV'), ('common', 'ADJ'), ('chrysotile', 'NOUN'), ('fibers', 'NOUN'), ('are', 'VERB'), ('curly', 'ADJ'), ('and', 'CONJ'), ('are', 'VERB'), ('more', 'ADV'), ('easily', 'ADV'), ('rejected', 'VERB'), ('*-1', 'X'), ('by', 'ADP'), ('the', 'DET'), ('body', 'NOUN'), (',', '.'), ('Dr.', 'NOUN'), ('Mossman', 'NOUN'), ('explained', 'VERB'), ('0', 'X'), ('*T*-2', 'X'), ('.', '.')], [('In', 'ADP'), ('July', 'NOUN'), (',', '.'), ('the', 'DET'), ('Environmental', 'NOUN'), ('Protection', 'NOUN'), ('Agency', 'NOUN'), ('imposed', 'VERB'), ('a', 'DET'), ('gradual', 'ADJ'), ('ban', 'NOUN'), ('on', 'ADP'), ('virtually', 'ADV'), ('all', 'DET'), ('uses', 'NOUN'), ('of', 'ADP'), ('asbestos', 'NOUN'), ('.', '.')], [('By', 'ADP'), ('1997', 'NUM'), (',', '.'), ('almost', 'ADV'), ('all', 'DET'), ('remaining', 'VERB'), ('uses', 'NOUN'), ('of', 'ADP'), ('cancer-causing', 'ADJ'), ('asbestos', 'NOUN'), ('will', 'VERB'), ('be', 'VERB'), ('outlawed', 'VERB'), ('*-6', 'X'), ('.', '.')], [('About', 'ADP'), ('160', 'NUM'), ('workers', 'NOUN'), ('at', 'ADP'), ('a', 'DET'), ('factory', 'NOUN'), ('that', 'DET'), ('*T*-8', 'X'), ('made', 'VERB'), ('paper', 'NOUN'), ('for', 'ADP'), ('the', 'DET'), ('Kent', 'NOUN'), ('filters', 'NOUN'), ('were', 'VERB'), ('exposed', 'VERB'), ('*-7', 'X'), ('to', 'PRT'), ('asbestos', 'NOUN'), ('in', 'ADP'), ('the', 'DET'), ('1950s', 'NUM'), ('.', '.')], [('Areas', 'NOUN'), ('of', 'ADP'), ('the', 'DET'), ('factory', 'NOUN'), ('*ICH*-2', 'X'), ('were', 'VERB'), ('particularly', 'ADV'), ('dusty', 'ADJ'), ('where', 'ADV'), ('the', 'DET'), ('crocidolite', 'NOUN'), ('was', 'VERB'), ('used', 'VERB'), ('*-8', 'X'), ('*T*-1', 'X'), ('.', '.')], [('Workers', 'NOUN'), ('dumped', 'VERB'), ('large', 'ADJ'), ('burlap', 'NOUN'), ('sacks', 'NOUN'), ('of', 'ADP'), ('the', 'DET'), ('imported', 'VERB'), ('material', 'NOUN'), ('into', 'ADP'), ('a', 'DET'), ('huge', 'ADJ'), ('bin', 'NOUN'), (',', '.'), ('poured', 'VERB'), ('in', 'PRT'), ('cotton', 'NOUN'), ('and', 'CONJ'), ('acetate', 'NOUN'), ('fibers', 'NOUN'), ('and', 'CONJ'), ('mechanically', 'ADV'), ('mixed', 'VERB'), ('the', 'DET'), ('dry', 'ADJ'), ('fibers', 'NOUN'), ('in', 'ADP'), ('a', 'DET'), ('process', 'NOUN'), ('used', 'VERB'), ('*', 'X'), ('*', 'X'), ('to', 'PRT'), ('make', 'VERB'), ('filters', 'NOUN'), ('.', '.')], [('Workers', 'NOUN'), ('described', 'VERB'), ('``', '.'), ('clouds', 'NOUN'), ('of', 'ADP'), ('blue', 'ADJ'), ('dust', 'NOUN'), (\"''\", '.'), ('that', 'DET'), ('*T*-1', 'X'), ('hung', 'VERB'), ('over', 'ADP'), ('parts', 'NOUN'), ('of', 'ADP'), ('the', 'DET'), ('factory', 'NOUN'), (',', '.'), ('even', 'ADV'), ('though', 'ADP'), ('exhaust', 'NOUN'), ('fans', 'NOUN'), ('ventilated', 'VERB'), ('the', 'DET'), ('area', 'NOUN'), ('.', '.')]]\n"
     ]
    }
   ],
   "source": [
    "# first few tagged sentences\n",
    "print(nltk_data[:30])"
   ]
  },
  {
   "cell_type": "code",
   "execution_count": 4,
   "metadata": {},
   "outputs": [
    {
     "name": "stdout",
     "output_type": "stream",
     "text": [
      "2739\n",
      "1175\n",
      "[[('The', 'DET'), ('recent', 'ADJ'), ('cash', 'NOUN'), ('squeeze', 'NOUN'), ('at', 'ADP'), ('Campeau', 'NOUN'), ('Corp.', 'NOUN'), (',', '.'), ('First', 'NOUN'), ('Boston', 'NOUN'), (\"'s\", 'PRT'), ('most', 'ADJ'), ('lucrative', 'ADJ'), ('client', 'NOUN'), ('of', 'ADP'), ('the', 'DET'), ('decade', 'NOUN'), (',', '.'), ('is', 'VERB'), ('proving', 'VERB'), ('costly', 'ADJ'), ('to', 'PRT'), ('First', 'NOUN'), ('Boston', 'NOUN'), ('because', 'ADP'), ('it', 'PRON'), ('arranged', 'VERB'), ('more', 'ADJ'), ('than', 'ADP'), ('$', '.'), ('3', 'NUM'), ('billion', 'NUM'), ('*U*', 'X'), ('of', 'ADP'), ('high-yield', 'ADJ'), (',', '.'), ('high-risk', 'ADJ'), ('junk', 'NOUN'), ('financings', 'NOUN'), ('for', 'ADP'), ('Campeau', 'NOUN'), ('units', 'NOUN'), ('.', '.')], [('She', 'PRON'), ('said', 'VERB'), ('0', 'X'), ('there', 'DET'), ('is', 'VERB'), ('``', '.'), ('growing', 'VERB'), ('realization', 'NOUN'), ('*ICH*-1', 'X'), (\"''\", '.'), ('around', 'ADP'), ('the', 'DET'), ('world', 'NOUN'), ('that', 'DET'), ('denial', 'NOUN'), ('of', 'ADP'), ('intellectual-property', 'ADJ'), ('rights', 'NOUN'), ('harms', 'VERB'), ('all', 'DET'), ('trading', 'VERB'), ('nations', 'NOUN'), (',', '.'), ('and', 'CONJ'), ('particularly', 'ADV'), ('the', 'DET'), ('``', '.'), ('creativity', 'NOUN'), ('and', 'CONJ'), ('inventiveness', 'NOUN'), ('of', 'ADP'), ('an', 'DET'), ('-LCB-', '.'), ('offending', 'VERB'), ('-RCB-', '.'), ('country', 'NOUN'), (\"'s\", 'PRT'), ('own', 'ADJ'), ('citizens', 'NOUN'), ('.', '.'), (\"''\", '.')], [('A', 'DET'), ('Shearson', 'NOUN'), ('spokesman', 'NOUN'), ('said', 'VERB'), ('0', 'X'), ('the', 'DET'), ('firm', 'NOUN'), ('is', 'VERB'), (\"n't\", 'ADV'), ('worried', 'VERB'), ('.', '.')], [('The', 'DET'), ('Fairlawn', 'NOUN'), (',', '.'), ('Ohio-based', 'ADJ'), ('company', 'NOUN'), ('also', 'ADV'), ('said', 'VERB'), ('that', 'DET'), ('full-year', 'ADJ'), ('profit', 'NOUN'), ('from', 'ADP'), ('continuing', 'VERB'), ('operations', 'NOUN'), ('will', 'VERB'), ('be', 'VERB'), ('far', 'ADV'), ('below', 'ADP'), ('last', 'ADJ'), ('year', 'NOUN'), (\"'s\", 'PRT'), ('$', '.'), ('148', 'NUM'), ('million', 'NUM'), ('*U*', 'X'), ('.', '.')], [('``', '.'), ('One', 'NOUN'), ('says', 'VERB'), ('0', 'X'), ('he', 'PRON'), (\"'s\", 'VERB'), ('for', 'ADP'), ('*', 'X'), ('banning', 'VERB'), ('cop-killer', 'ADJ'), ('bullets', 'NOUN'), ('.', '.')], [('*', 'X'), ('To', 'PRT'), ('make', 'VERB'), ('them', 'PRON'), ('directly', 'ADV'), ('comparable', 'ADJ'), (',', '.'), ('each', 'DET'), ('index', 'NOUN'), ('is', 'VERB'), ('based', 'VERB'), ('*-1', 'X'), ('on', 'ADP'), ('the', 'DET'), ('close', 'NOUN'), ('of', 'ADP'), ('1969', 'NUM'), ('equaling', 'VERB'), ('100', 'NUM'), ('.', '.')], [('Common', 'ADJ'), ('wisdom', 'NOUN'), ('suggests', 'VERB'), ('a', 'DET'), ('single-digit', 'ADJ'), ('rate', 'NOUN'), ('of', 'ADP'), ('growth', 'NOUN'), (',', '.'), ('reflecting', 'VERB'), ('a', 'DET'), ('weakening', 'NOUN'), ('in', 'ADP'), ('the', 'DET'), ('economy', 'NOUN'), ('and', 'CONJ'), ('corporate', 'ADJ'), ('profits', 'NOUN'), ('.', '.')], [('A', 'DET'), ('Lorillard', 'NOUN'), ('spokewoman', 'NOUN'), ('said', 'VERB'), (',', '.'), ('``', '.'), ('This', 'DET'), ('is', 'VERB'), ('an', 'DET'), ('old', 'ADJ'), ('story', 'NOUN'), ('.', '.')], [('Along', 'ADP'), ('the', 'DET'), ('way', 'NOUN'), (',', '.'), ('he', 'PRON'), ('meets', 'VERB'), ('a', 'DET'), ('solicitous', 'ADJ'), ('Christian', 'ADJ'), ('chauffeur', 'NOUN'), ('who', 'PRON'), ('*T*-55', 'X'), ('offers', 'VERB'), ('the', 'DET'), ('hero', 'NOUN'), ('God', 'NOUN'), (\"'s\", 'PRT'), ('phone', 'NOUN'), ('number', 'NOUN'), (';', '.'), ('and', 'CONJ'), ('the', 'DET'), ('Sheep', 'NOUN'), ('Man', 'NOUN'), (',', '.'), ('a', 'DET'), ('sweet', 'ADJ'), (',', '.'), ('roughhewn', 'ADJ'), ('figure', 'NOUN'), ('who', 'PRON'), ('*T*-56', 'X'), ('wears', 'VERB'), ('--', '.'), ('what', 'PRON'), ('else', 'ADV'), ('--', '.'), ('a', 'ADJ'), ('sheepskin', 'NOUN'), ('.', '.')], [('The', 'DET'), ('discount', 'NOUN'), ('rate', 'NOUN'), ('on', 'ADP'), ('three-month', 'ADJ'), ('Treasury', 'NOUN'), ('bills', 'NOUN'), ('was', 'VERB'), ('essentially', 'ADV'), ('unchanged', 'ADJ'), ('at', 'ADP'), ('7.79', 'NUM'), ('%', 'NOUN'), (',', '.'), ('while', 'ADP'), ('the', 'DET'), ('rate', 'NOUN'), ('on', 'ADP'), ('six-month', 'ADJ'), ('bills', 'NOUN'), ('was', 'VERB'), ('slightly', 'ADV'), ('lower', 'ADJ'), ('at', 'ADP'), ('7.52', 'NUM'), ('%', 'NOUN'), ('compared', 'VERB'), ('with', 'ADP'), ('7.60', 'NUM'), ('%', 'NOUN'), ('Tuesday', 'NOUN'), ('.', '.')], [('The', 'DET'), ('Pennsylvania', 'NOUN'), ('bank', 'NOUN'), ('agreed', 'VERB'), ('*-1', 'X'), ('to', 'PRT'), ('be', 'VERB'), ('acquired', 'VERB'), ('*-2', 'X'), ('in', 'ADP'), ('a', 'DET'), ('merger', 'NOUN'), ('with', 'ADP'), ('Univest', 'NOUN'), ('Corp.', 'NOUN'), ('of', 'ADP'), ('Pennsylvania', 'NOUN'), ('for', 'ADP'), ('$', '.'), ('25.50', 'NUM'), ('*U*', 'X'), ('a', 'DET'), ('share', 'NOUN'), ('.', '.')], [('The', 'DET'), ('Artist', 'NOUN'), ('has', 'VERB'), ('his', 'PRON'), ('routine', 'NOUN'), ('.', '.')], [('Both', 'DET'), ('Moody', 'NOUN'), (\"'s\", 'PRT'), ('and', 'CONJ'), ('S&P', 'NOUN'), ('cited', 'VERB'), ('First', 'NOUN'), ('Boston', 'NOUN'), (\"'s\", 'PRT'), ('reliance', 'NOUN'), ('in', 'ADP'), ('recent', 'ADJ'), ('years', 'NOUN'), ('on', 'ADP'), ('merchant', 'NOUN'), ('banking', 'NOUN'), (',', '.'), ('which', 'DET'), ('*T*-1', 'X'), ('has', 'VERB'), ('been', 'VERB'), ('responsible', 'ADJ'), ('for', 'ADP'), ('a', 'DET'), ('significant', 'ADJ'), ('portion', 'NOUN'), ('of', 'ADP'), ('the', 'DET'), ('closely', 'ADV'), ('held', 'VERB'), ('firm', 'NOUN'), (\"'s\", 'PRT'), ('profit', 'NOUN'), ('.', '.')], [('Sales', 'NOUN'), ('rose', 'VERB'), ('to', 'PRT'), ('$', '.'), ('9.8', 'NUM'), ('million', 'NUM'), ('*U*', 'X'), ('from', 'ADP'), ('$', '.'), ('8.9', 'NUM'), ('million', 'NUM'), ('*U*', 'X'), ('.', '.')], [('U.S.', 'NOUN'), ('News', 'NOUN'), ('has', 'VERB'), ('yet', 'ADV'), ('*-1', 'X'), ('to', 'PRT'), ('announce', 'VERB'), ('its', 'PRON'), ('1990', 'NUM'), ('ad', 'NOUN'), ('rates', 'NOUN'), ('.', '.')], [('The', 'DET'), ('patent', 'NOUN'), ('for', 'ADP'), ('Interleukin-3', 'NOUN'), ('covers', 'VERB'), ('materials', 'NOUN'), ('and', 'CONJ'), ('methods', 'NOUN'), ('used', 'VERB'), ('*', 'X'), ('*', 'X'), ('to', 'PRT'), ('make', 'VERB'), ('the', 'DET'), ('human', 'ADJ'), ('blood', 'NOUN'), ('cell', 'NOUN'), ('growth', 'NOUN'), ('factor', 'NOUN'), ('via', 'ADP'), ('recombinant', 'ADJ'), ('DNA', 'NOUN'), ('technology', 'NOUN'), ('.', '.')], [('Carnival', 'NOUN'), ('had', 'VERB'), ('expected', 'VERB'), ('that', 'DET'), ('ship', 'NOUN'), ('to', 'PRT'), ('be', 'VERB'), ('delivered', 'VERB'), ('*-1', 'X'), ('next', 'ADJ'), ('fall', 'NOUN'), ('.', '.')], [('Campbell', 'NOUN'), ('Soup', 'NOUN'), (',', '.'), ('not', 'ADV'), ('surprisingly', 'ADV'), (',', '.'), ('does', 'VERB'), (\"n't\", 'ADV'), ('have', 'VERB'), ('any', 'DET'), ('plans', 'NOUN'), ('*', 'X'), ('to', 'PRT'), ('advertise', 'VERB'), ('in', 'ADP'), ('the', 'DET'), ('magazine', 'NOUN'), (',', '.'), ('according', 'VERB'), ('to', 'PRT'), ('its', 'PRON'), ('spokesman', 'NOUN'), ('.', '.')], [('Too', 'ADV'), ('often', 'ADV'), ('now', 'ADV'), (',', '.'), ('a', 'DET'), ('single', 'ADJ'), ('court', 'NOUN'), ('decision', 'NOUN'), ('becomes', 'VERB'), ('the', 'DET'), ('precedent', 'NOUN'), ('for', 'ADP'), ('other', 'ADJ'), (',', '.'), ('less', 'ADV'), ('compelling', 'ADJ'), ('cases', 'NOUN'), ('.', '.')], [('The', 'DET'), ('survival', 'NOUN'), ('of', 'ADP'), ('spinoff', 'NOUN'), ('Cray', 'NOUN'), ('Computer', 'NOUN'), ('Corp.', 'NOUN'), ('as', 'ADP'), ('a', 'DET'), ('fledgling', 'NOUN'), ('in', 'ADP'), ('the', 'DET'), ('supercomputer', 'NOUN'), ('business', 'NOUN'), ('appears', 'VERB'), ('*-1', 'X'), ('to', 'PRT'), ('depend', 'VERB'), ('heavily', 'ADV'), ('on', 'ADP'), ('the', 'DET'), ('creativity', 'NOUN'), ('--', '.'), ('and', 'CONJ'), ('longevity', 'NOUN'), ('--', '.'), ('of', 'ADP'), ('its', 'PRON'), ('chairman', 'NOUN'), ('and', 'CONJ'), ('chief', 'NOUN'), ('designer', 'NOUN'), (',', '.'), ('Seymour', 'NOUN'), ('Cray', 'NOUN'), ('.', '.')], [('The', 'DET'), ('Voice', 'NOUN'), ('of', 'ADP'), ('America', 'NOUN'), ('is', 'VERB'), ('a', 'DET'), ('government', 'NOUN'), ('agency', 'NOUN'), ('that', 'DET'), ('*T*-1', 'X'), ('broadcasts', 'VERB'), ('news', 'NOUN'), ('and', 'CONJ'), ('views', 'NOUN'), ('--', '.'), ('some', 'DET'), ('might', 'VERB'), ('say', 'VERB'), ('propaganda', 'NOUN'), ('--', '.'), ('in', 'ADP'), ('43', 'NUM'), ('languages', 'NOUN'), ('to', 'PRT'), ('130', 'NUM'), ('million', 'NUM'), ('listeners', 'NOUN'), ('around', 'ADP'), ('the', 'DET'), ('world', 'NOUN'), ('.', '.')], [('More', 'ADJ'), ('than', 'ADP'), ('a', 'DET'), ('half', 'NOUN'), ('of', 'ADP'), ('all', 'DET'), ('sugar', 'NOUN'), ('produced', 'VERB'), ('*', 'X'), ('in', 'ADP'), ('Brazil', 'NOUN'), ('goes', 'VERB'), ('for', 'ADP'), ('alcohol', 'NOUN'), ('production', 'NOUN'), (',', '.'), ('according', 'VERB'), ('to', 'PRT'), ('Ms.', 'NOUN'), ('Ganes', 'NOUN'), ('.', '.')], [('While', 'ADP'), ('*-1', 'X'), ('acknowledging', 'VERB'), ('0', 'X'), ('one', 'NUM'), ('month', 'NOUN'), (\"'s\", 'PRT'), ('figures', 'NOUN'), ('do', 'VERB'), (\"n't\", 'ADV'), ('prove', 'VERB'), ('a', 'DET'), ('trend', 'NOUN'), (',', '.'), ('Mr.', 'NOUN'), ('Bretz', 'NOUN'), ('said', 'VERB'), (',', '.'), ('``', '.'), ('It', 'PRON'), ('does', 'VERB'), ('lead', 'VERB'), ('you', 'PRON'), ('to', 'PRT'), ('suspect', 'VERB'), ('0', 'X'), ('imports', 'NOUN'), ('are', 'VERB'), ('going', 'VERB'), ('down', 'ADV'), (',', '.'), ('or', 'CONJ'), ('at', 'ADP'), ('least', 'ADJ'), ('not', 'ADV'), ('increasing', 'VERB'), ('that', 'ADV'), ('much', 'ADV'), ('.', '.'), (\"''\", '.')], [('In', 'ADP'), ('addition', 'NOUN'), (',', '.'), ('they', 'PRON'), ('will', 'VERB'), ('receive', 'VERB'), ('stock', 'NOUN'), ('in', 'ADP'), ('the', 'DET'), ('reorganized', 'VERB'), ('company', 'NOUN'), (',', '.'), ('which', 'DET'), ('*T*-2', 'X'), ('will', 'VERB'), ('be', 'VERB'), ('named', 'VERB'), ('*-1', 'X'), ('Ranger', 'NOUN'), ('Industries', 'NOUN'), ('Inc', 'NOUN'), ('.', '.')], [('Plans', 'NOUN'), ('that', 'DET'), ('*T*-13', 'X'), ('give', 'VERB'), ('advertisers', 'NOUN'), ('discounts', 'NOUN'), ('for', 'ADP'), ('*', 'X'), ('maintaining', 'VERB'), ('or', 'CONJ'), ('increasing', 'VERB'), ('ad', 'NOUN'), ('spending', 'NOUN'), ('have', 'VERB'), ('become', 'VERB'), ('permanent', 'ADJ'), ('fixtures', 'NOUN'), ('at', 'ADP'), ('the', 'DET'), ('news', 'NOUN'), ('weeklies', 'NOUN'), ('and', 'CONJ'), ('underscore', 'VERB'), ('the', 'DET'), ('fierce', 'ADJ'), ('competition', 'NOUN'), ('between', 'ADP'), ('Newsweek', 'NOUN'), (',', '.'), ('Time', 'NOUN'), ('Warner', 'NOUN'), ('Inc.', 'NOUN'), (\"'s\", 'PRT'), ('Time', 'NOUN'), ('magazine', 'NOUN'), (',', '.'), ('and', 'CONJ'), ('Mortimer', 'NOUN'), ('B.', 'NOUN'), ('Zuckerman', 'NOUN'), (\"'s\", 'PRT'), ('U.S.', 'NOUN'), ('News', 'NOUN'), ('&', 'CONJ'), ('World', 'NOUN'), ('Report', 'NOUN'), ('.', '.')], [('The', 'DET'), ('Communist', 'NOUN'), ('Party', 'NOUN'), ('chief', 'NOUN'), (',', '.'), ('*-1', 'X'), ('in', 'ADP'), ('Moscow', 'NOUN'), ('for', 'ADP'), ('talks', 'NOUN'), ('with', 'ADP'), ('Soviet', 'ADJ'), ('officials', 'NOUN'), (',', '.'), ('also', 'ADV'), ('said', 'VERB'), ('0', 'X'), ('East', 'NOUN'), ('Germany', 'NOUN'), ('would', 'VERB'), ('follow', 'VERB'), ('Gorbachev', 'NOUN'), (\"'s\", 'PRT'), ('restructuring', 'NOUN'), ('plans', 'NOUN'), ('.', '.')], [('The', 'DET'), ('top', 'ADJ'), ('money', 'NOUN'), ('funds', 'NOUN'), ('are', 'VERB'), ('currently', 'ADV'), ('yielding', 'VERB'), ('well', 'ADV'), ('over', 'ADP'), ('9', 'NUM'), ('%', 'NOUN'), ('.', '.')], [('``', '.'), ('Cosby', 'NOUN'), (\"''\", '.'), ('is', 'VERB'), ('down', 'ADV'), ('a', 'DET'), ('full', 'ADJ'), ('ratings', 'NOUN'), ('point', 'NOUN'), ('in', 'ADP'), ('the', 'DET'), ('week', 'NOUN'), ('of', 'ADP'), ('Oct.', 'NOUN'), ('2-8', 'NUM'), ('over', 'ADP'), ('the', 'DET'), ('same', 'ADJ'), ('week', 'NOUN'), ('a', 'DET'), ('year', 'NOUN'), ('ago', 'ADV'), (',', '.'), ('according', 'VERB'), ('to', 'PRT'), ('A.C.', 'NOUN'), ('Nielsen', 'NOUN'), ('Co', 'NOUN'), ('.', '.')], [('The', 'DET'), ('Bougainville', 'NOUN'), ('copper', 'NOUN'), ('mine', 'NOUN'), ('has', 'VERB'), ('been', 'VERB'), ('inoperative', 'ADJ'), ('since', 'ADP'), ('May', 'NOUN'), ('15', 'NUM'), ('because', 'ADP'), ('of', 'ADP'), ('attacks', 'NOUN'), ('by', 'ADP'), ('native', 'ADJ'), ('landowners', 'NOUN'), ('who', 'PRON'), ('*T*-1', 'X'), ('want', 'VERB'), ('Bougainville', 'NOUN'), ('to', 'PRT'), ('secede', 'VERB'), ('from', 'ADP'), ('Papua-New', 'NOUN'), ('Guinea', 'NOUN'), ('.', '.')], [('``', '.'), ('It', 'PRON'), (\"'s\", 'VERB'), ('an', 'DET'), ('odd', 'ADJ'), ('thing', 'NOUN'), ('0', 'X'), ('*', 'X'), ('to', 'PRT'), ('put', 'VERB'), ('*T*-1', 'X'), ('on', 'ADP'), ('the', 'DET'), ('list', 'NOUN'), (',', '.'), (\"''\", '.'), ('Mr.', 'NOUN'), ('Bretz', 'NOUN'), ('noted', 'VERB'), ('*T*-2', 'X'), ('.', '.')]]\n"
     ]
    }
   ],
   "source": [
    "# Splitting into train and test\n",
    "\n",
    "random.seed(1234)\n",
    "train_set, test_set = train_test_split(nltk_data,test_size=0.3)\n",
    "\n",
    "\n",
    "# length of training and test sets\n",
    "\n",
    "print(len(train_set))\n",
    "print(len(test_set))\n",
    "print(train_set[:30])"
   ]
  },
  {
   "cell_type": "code",
   "execution_count": 5,
   "metadata": {},
   "outputs": [
    {
     "data": {
      "text/plain": [
       "70176"
      ]
     },
     "execution_count": 5,
     "metadata": {},
     "output_type": "execute_result"
    }
   ],
   "source": [
    "# Getting list of tagged words\n",
    "train_tagged_words = [tup for sent in train_set for tup in sent]\n",
    "len(train_tagged_words)"
   ]
  },
  {
   "cell_type": "code",
   "execution_count": 6,
   "metadata": {},
   "outputs": [
    {
     "data": {
      "text/plain": [
       "['The',\n",
       " 'recent',\n",
       " 'cash',\n",
       " 'squeeze',\n",
       " 'at',\n",
       " 'Campeau',\n",
       " 'Corp.',\n",
       " ',',\n",
       " 'First',\n",
       " 'Boston']"
      ]
     },
     "execution_count": 6,
     "metadata": {},
     "output_type": "execute_result"
    }
   ],
   "source": [
    "# tokens \n",
    "tokens = [pair[0] for pair in train_tagged_words]\n",
    "tokens[:10]"
   ]
  },
  {
   "cell_type": "code",
   "execution_count": 7,
   "metadata": {},
   "outputs": [
    {
     "name": "stdout",
     "output_type": "stream",
     "text": [
      "10316\n"
     ]
    }
   ],
   "source": [
    "# vocabulary\n",
    "V = set(tokens)\n",
    "print(len(V))"
   ]
  },
  {
   "cell_type": "code",
   "execution_count": 8,
   "metadata": {},
   "outputs": [
    {
     "name": "stdout",
     "output_type": "stream",
     "text": [
      "12\n",
      "{'X', 'PRON', '.', 'ADP', 'VERB', 'NUM', 'PRT', 'NOUN', 'DET', 'ADV', 'CONJ', 'ADJ'}\n"
     ]
    }
   ],
   "source": [
    "# number of tags\n",
    "T = set([pair[1] for pair in train_tagged_words])\n",
    "print(len(T))\n",
    "print(T)"
   ]
  },
  {
   "cell_type": "markdown",
   "metadata": {},
   "source": [
    "### Build the vanilla Viterbi based POS tagger"
   ]
  },
  {
   "cell_type": "code",
   "execution_count": 9,
   "metadata": {},
   "outputs": [],
   "source": [
    "# computing P(w/t) and storing in T x V matrix\n",
    "t = len(T)\n",
    "v = len(V)\n",
    "w_given_t = np.zeros((t, v))"
   ]
  },
  {
   "cell_type": "code",
   "execution_count": 10,
   "metadata": {},
   "outputs": [],
   "source": [
    "# compute word given tag: Emission Probability\n",
    "def word_given_tag(word, tag, train_bag = train_tagged_words):\n",
    "    tag_list = [pair for pair in train_bag if pair[1]==tag]\n",
    "    count_tag = len(tag_list)\n",
    "    w_given_tag_list = [pair[0] for pair in tag_list if pair[0]==word]\n",
    "    count_w_given_tag = len(w_given_tag_list)\n",
    "    \n",
    "    return (count_w_given_tag, count_tag)"
   ]
  },
  {
   "cell_type": "code",
   "execution_count": 11,
   "metadata": {},
   "outputs": [],
   "source": [
    "# compute tag given tag: tag2(t2) given tag1 (t1), i.e. Transition Probability\n",
    "\n",
    "def t2_given_t1(t2, t1, train_bag = train_tagged_words):\n",
    "    tags = [pair[1] for pair in train_bag]\n",
    "    count_t1 = len([t for t in tags if t==t1])\n",
    "    count_t2_t1 = 0\n",
    "    for index in range(len(tags)-1):\n",
    "        if tags[index]==t1 and tags[index+1] == t2:\n",
    "            count_t2_t1 += 1\n",
    "    return (count_t2_t1, count_t1)"
   ]
  },
  {
   "cell_type": "code",
   "execution_count": 12,
   "metadata": {},
   "outputs": [],
   "source": [
    "# creating t x t transition matrix of tags\n",
    "# each column is t2, each row is t1\n",
    "# thus M(i, j) represents P(tj given ti)\n",
    "\n",
    "tags_matrix = np.zeros((len(T), len(T)), dtype='float32')\n",
    "for i, t1 in enumerate(list(T)):\n",
    "    for j, t2 in enumerate(list(T)): \n",
    "        tags_matrix[i, j] = t2_given_t1(t2, t1)[0]/t2_given_t1(t2, t1)[1]"
   ]
  },
  {
   "cell_type": "code",
   "execution_count": 13,
   "metadata": {},
   "outputs": [
    {
     "data": {
      "text/plain": [
       "array([[7.65892789e-02, 5.05532660e-02, 1.68583199e-01, 1.45150796e-01,\n",
       "        2.08505094e-01, 1.30180083e-03, 1.84638754e-01, 6.16185740e-02,\n",
       "        5.40247336e-02, 2.32154485e-02, 9.98047274e-03, 1.58385765e-02],\n",
       "       [9.42887962e-02, 7.54310330e-03, 3.93318981e-02, 2.15517245e-02,\n",
       "        4.82219815e-01, 9.15948302e-03, 1.13146547e-02, 2.07974136e-01,\n",
       "        1.02370689e-02, 3.44827585e-02, 5.92672406e-03, 7.59698302e-02],\n",
       "       [2.60890666e-02, 6.46766201e-02, 9.33139175e-02, 9.35566053e-02,\n",
       "        8.61545950e-02, 8.14221576e-02, 2.66957888e-03, 2.25700766e-01,\n",
       "        1.73401281e-01, 5.29062003e-02, 5.59398122e-02, 4.40480523e-02],\n",
       "       [3.54187824e-02, 6.63376376e-02, 3.99187095e-02, 1.69835966e-02,\n",
       "        9.14501399e-03, 5.84990568e-02, 1.45158952e-03, 3.27043116e-01,\n",
       "        3.26462477e-01, 1.36449412e-02, 7.25794758e-04, 1.04369283e-01],\n",
       "       [2.15467855e-01, 3.44791003e-02, 3.72374281e-02, 9.03882906e-02,\n",
       "        1.70804158e-01, 2.22788025e-02, 3.16146836e-02, 1.10333122e-01,\n",
       "        1.31657124e-01, 8.38107392e-02, 5.72883524e-03, 6.61998764e-02],\n",
       "       [2.15137810e-01, 1.64541346e-03, 1.15590289e-01, 3.57877426e-02,\n",
       "        1.97449606e-02, 1.87988475e-01, 2.87947338e-02, 3.44302744e-01,\n",
       "        2.87947338e-03, 3.70218023e-03, 1.11065404e-02, 3.33196223e-02],\n",
       "       [1.24113476e-02, 1.86170209e-02, 4.25531901e-02, 1.77304968e-02,\n",
       "        4.00265962e-01, 5.49645387e-02, 1.77304959e-03, 2.46897161e-01,\n",
       "        1.06382981e-01, 1.10815605e-02, 2.21631210e-03, 8.51063803e-02],\n",
       "       [2.92115845e-02, 4.71955864e-03, 2.41393015e-01, 1.77306369e-01,\n",
       "        1.46057934e-01, 8.94232187e-03, 4.43141721e-02, 2.61960357e-01,\n",
       "        1.36122014e-02, 1.69904120e-02, 4.32212241e-02, 1.22708529e-02],\n",
       "       [4.79159839e-02, 3.77420406e-03, 1.82146374e-02, 9.51755792e-03,\n",
       "        3.88907120e-02, 2.29734164e-02, 3.28191672e-04, 6.34558558e-01,\n",
       "        6.39973767e-03, 1.06662288e-02, 3.28191672e-04, 2.06432551e-01],\n",
       "       [2.62681153e-02, 1.63043477e-02, 1.36322469e-01, 1.14130437e-01,\n",
       "        3.47826093e-01, 3.39673907e-02, 1.53985508e-02, 2.71739122e-02,\n",
       "        6.65760860e-02, 7.65398517e-02, 5.43478271e-03, 1.34057969e-01],\n",
       "       [9.52380989e-03, 5.84126972e-02, 3.36507931e-02, 5.07936515e-02,\n",
       "        1.53650790e-01, 3.68253961e-02, 3.80952377e-03, 3.72063488e-01,\n",
       "        1.13650791e-01, 5.65079376e-02, 6.34920609e-04, 1.10476188e-01],\n",
       "       [1.94979832e-02, 4.48229490e-04, 6.61138520e-02, 7.93366209e-02,\n",
       "        1.09816222e-02, 2.01703273e-02, 1.03092780e-02, 7.00582683e-01,\n",
       "        4.48229490e-03, 4.03406564e-03, 1.81532949e-02, 6.58897385e-02]],\n",
       "      dtype=float32)"
      ]
     },
     "execution_count": 13,
     "metadata": {},
     "output_type": "execute_result"
    }
   ],
   "source": [
    "tags_matrix"
   ]
  },
  {
   "cell_type": "code",
   "execution_count": 14,
   "metadata": {},
   "outputs": [
    {
     "data": {
      "text/html": [
       "<div>\n",
       "<style scoped>\n",
       "    .dataframe tbody tr th:only-of-type {\n",
       "        vertical-align: middle;\n",
       "    }\n",
       "\n",
       "    .dataframe tbody tr th {\n",
       "        vertical-align: top;\n",
       "    }\n",
       "\n",
       "    .dataframe thead th {\n",
       "        text-align: right;\n",
       "    }\n",
       "</style>\n",
       "<table border=\"1\" class=\"dataframe\">\n",
       "  <thead>\n",
       "    <tr style=\"text-align: right;\">\n",
       "      <th></th>\n",
       "      <th>X</th>\n",
       "      <th>PRON</th>\n",
       "      <th>.</th>\n",
       "      <th>ADP</th>\n",
       "      <th>VERB</th>\n",
       "      <th>NUM</th>\n",
       "      <th>PRT</th>\n",
       "      <th>NOUN</th>\n",
       "      <th>DET</th>\n",
       "      <th>ADV</th>\n",
       "      <th>CONJ</th>\n",
       "      <th>ADJ</th>\n",
       "    </tr>\n",
       "  </thead>\n",
       "  <tbody>\n",
       "    <tr>\n",
       "      <th>X</th>\n",
       "      <td>0.076589</td>\n",
       "      <td>0.050553</td>\n",
       "      <td>0.168583</td>\n",
       "      <td>0.145151</td>\n",
       "      <td>0.208505</td>\n",
       "      <td>0.001302</td>\n",
       "      <td>0.184639</td>\n",
       "      <td>0.061619</td>\n",
       "      <td>0.054025</td>\n",
       "      <td>0.023215</td>\n",
       "      <td>0.009980</td>\n",
       "      <td>0.015839</td>\n",
       "    </tr>\n",
       "    <tr>\n",
       "      <th>PRON</th>\n",
       "      <td>0.094289</td>\n",
       "      <td>0.007543</td>\n",
       "      <td>0.039332</td>\n",
       "      <td>0.021552</td>\n",
       "      <td>0.482220</td>\n",
       "      <td>0.009159</td>\n",
       "      <td>0.011315</td>\n",
       "      <td>0.207974</td>\n",
       "      <td>0.010237</td>\n",
       "      <td>0.034483</td>\n",
       "      <td>0.005927</td>\n",
       "      <td>0.075970</td>\n",
       "    </tr>\n",
       "    <tr>\n",
       "      <th>.</th>\n",
       "      <td>0.026089</td>\n",
       "      <td>0.064677</td>\n",
       "      <td>0.093314</td>\n",
       "      <td>0.093557</td>\n",
       "      <td>0.086155</td>\n",
       "      <td>0.081422</td>\n",
       "      <td>0.002670</td>\n",
       "      <td>0.225701</td>\n",
       "      <td>0.173401</td>\n",
       "      <td>0.052906</td>\n",
       "      <td>0.055940</td>\n",
       "      <td>0.044048</td>\n",
       "    </tr>\n",
       "    <tr>\n",
       "      <th>ADP</th>\n",
       "      <td>0.035419</td>\n",
       "      <td>0.066338</td>\n",
       "      <td>0.039919</td>\n",
       "      <td>0.016984</td>\n",
       "      <td>0.009145</td>\n",
       "      <td>0.058499</td>\n",
       "      <td>0.001452</td>\n",
       "      <td>0.327043</td>\n",
       "      <td>0.326462</td>\n",
       "      <td>0.013645</td>\n",
       "      <td>0.000726</td>\n",
       "      <td>0.104369</td>\n",
       "    </tr>\n",
       "    <tr>\n",
       "      <th>VERB</th>\n",
       "      <td>0.215468</td>\n",
       "      <td>0.034479</td>\n",
       "      <td>0.037237</td>\n",
       "      <td>0.090388</td>\n",
       "      <td>0.170804</td>\n",
       "      <td>0.022279</td>\n",
       "      <td>0.031615</td>\n",
       "      <td>0.110333</td>\n",
       "      <td>0.131657</td>\n",
       "      <td>0.083811</td>\n",
       "      <td>0.005729</td>\n",
       "      <td>0.066200</td>\n",
       "    </tr>\n",
       "    <tr>\n",
       "      <th>NUM</th>\n",
       "      <td>0.215138</td>\n",
       "      <td>0.001645</td>\n",
       "      <td>0.115590</td>\n",
       "      <td>0.035788</td>\n",
       "      <td>0.019745</td>\n",
       "      <td>0.187988</td>\n",
       "      <td>0.028795</td>\n",
       "      <td>0.344303</td>\n",
       "      <td>0.002879</td>\n",
       "      <td>0.003702</td>\n",
       "      <td>0.011107</td>\n",
       "      <td>0.033320</td>\n",
       "    </tr>\n",
       "    <tr>\n",
       "      <th>PRT</th>\n",
       "      <td>0.012411</td>\n",
       "      <td>0.018617</td>\n",
       "      <td>0.042553</td>\n",
       "      <td>0.017730</td>\n",
       "      <td>0.400266</td>\n",
       "      <td>0.054965</td>\n",
       "      <td>0.001773</td>\n",
       "      <td>0.246897</td>\n",
       "      <td>0.106383</td>\n",
       "      <td>0.011082</td>\n",
       "      <td>0.002216</td>\n",
       "      <td>0.085106</td>\n",
       "    </tr>\n",
       "    <tr>\n",
       "      <th>NOUN</th>\n",
       "      <td>0.029212</td>\n",
       "      <td>0.004720</td>\n",
       "      <td>0.241393</td>\n",
       "      <td>0.177306</td>\n",
       "      <td>0.146058</td>\n",
       "      <td>0.008942</td>\n",
       "      <td>0.044314</td>\n",
       "      <td>0.261960</td>\n",
       "      <td>0.013612</td>\n",
       "      <td>0.016990</td>\n",
       "      <td>0.043221</td>\n",
       "      <td>0.012271</td>\n",
       "    </tr>\n",
       "    <tr>\n",
       "      <th>DET</th>\n",
       "      <td>0.047916</td>\n",
       "      <td>0.003774</td>\n",
       "      <td>0.018215</td>\n",
       "      <td>0.009518</td>\n",
       "      <td>0.038891</td>\n",
       "      <td>0.022973</td>\n",
       "      <td>0.000328</td>\n",
       "      <td>0.634559</td>\n",
       "      <td>0.006400</td>\n",
       "      <td>0.010666</td>\n",
       "      <td>0.000328</td>\n",
       "      <td>0.206433</td>\n",
       "    </tr>\n",
       "    <tr>\n",
       "      <th>ADV</th>\n",
       "      <td>0.026268</td>\n",
       "      <td>0.016304</td>\n",
       "      <td>0.136322</td>\n",
       "      <td>0.114130</td>\n",
       "      <td>0.347826</td>\n",
       "      <td>0.033967</td>\n",
       "      <td>0.015399</td>\n",
       "      <td>0.027174</td>\n",
       "      <td>0.066576</td>\n",
       "      <td>0.076540</td>\n",
       "      <td>0.005435</td>\n",
       "      <td>0.134058</td>\n",
       "    </tr>\n",
       "    <tr>\n",
       "      <th>CONJ</th>\n",
       "      <td>0.009524</td>\n",
       "      <td>0.058413</td>\n",
       "      <td>0.033651</td>\n",
       "      <td>0.050794</td>\n",
       "      <td>0.153651</td>\n",
       "      <td>0.036825</td>\n",
       "      <td>0.003810</td>\n",
       "      <td>0.372063</td>\n",
       "      <td>0.113651</td>\n",
       "      <td>0.056508</td>\n",
       "      <td>0.000635</td>\n",
       "      <td>0.110476</td>\n",
       "    </tr>\n",
       "    <tr>\n",
       "      <th>ADJ</th>\n",
       "      <td>0.019498</td>\n",
       "      <td>0.000448</td>\n",
       "      <td>0.066114</td>\n",
       "      <td>0.079337</td>\n",
       "      <td>0.010982</td>\n",
       "      <td>0.020170</td>\n",
       "      <td>0.010309</td>\n",
       "      <td>0.700583</td>\n",
       "      <td>0.004482</td>\n",
       "      <td>0.004034</td>\n",
       "      <td>0.018153</td>\n",
       "      <td>0.065890</td>\n",
       "    </tr>\n",
       "  </tbody>\n",
       "</table>\n",
       "</div>"
      ],
      "text/plain": [
       "             X      PRON         .       ADP      VERB       NUM       PRT  \\\n",
       "X     0.076589  0.050553  0.168583  0.145151  0.208505  0.001302  0.184639   \n",
       "PRON  0.094289  0.007543  0.039332  0.021552  0.482220  0.009159  0.011315   \n",
       ".     0.026089  0.064677  0.093314  0.093557  0.086155  0.081422  0.002670   \n",
       "ADP   0.035419  0.066338  0.039919  0.016984  0.009145  0.058499  0.001452   \n",
       "VERB  0.215468  0.034479  0.037237  0.090388  0.170804  0.022279  0.031615   \n",
       "NUM   0.215138  0.001645  0.115590  0.035788  0.019745  0.187988  0.028795   \n",
       "PRT   0.012411  0.018617  0.042553  0.017730  0.400266  0.054965  0.001773   \n",
       "NOUN  0.029212  0.004720  0.241393  0.177306  0.146058  0.008942  0.044314   \n",
       "DET   0.047916  0.003774  0.018215  0.009518  0.038891  0.022973  0.000328   \n",
       "ADV   0.026268  0.016304  0.136322  0.114130  0.347826  0.033967  0.015399   \n",
       "CONJ  0.009524  0.058413  0.033651  0.050794  0.153651  0.036825  0.003810   \n",
       "ADJ   0.019498  0.000448  0.066114  0.079337  0.010982  0.020170  0.010309   \n",
       "\n",
       "          NOUN       DET       ADV      CONJ       ADJ  \n",
       "X     0.061619  0.054025  0.023215  0.009980  0.015839  \n",
       "PRON  0.207974  0.010237  0.034483  0.005927  0.075970  \n",
       ".     0.225701  0.173401  0.052906  0.055940  0.044048  \n",
       "ADP   0.327043  0.326462  0.013645  0.000726  0.104369  \n",
       "VERB  0.110333  0.131657  0.083811  0.005729  0.066200  \n",
       "NUM   0.344303  0.002879  0.003702  0.011107  0.033320  \n",
       "PRT   0.246897  0.106383  0.011082  0.002216  0.085106  \n",
       "NOUN  0.261960  0.013612  0.016990  0.043221  0.012271  \n",
       "DET   0.634559  0.006400  0.010666  0.000328  0.206433  \n",
       "ADV   0.027174  0.066576  0.076540  0.005435  0.134058  \n",
       "CONJ  0.372063  0.113651  0.056508  0.000635  0.110476  \n",
       "ADJ   0.700583  0.004482  0.004034  0.018153  0.065890  "
      ]
     },
     "execution_count": 14,
     "metadata": {},
     "output_type": "execute_result"
    }
   ],
   "source": [
    "# convert the matrix to a df for better readability\n",
    "tags_df = pd.DataFrame(tags_matrix, columns = list(T), index=list(T))\n",
    "tags_df"
   ]
  },
  {
   "cell_type": "code",
   "execution_count": 15,
   "metadata": {},
   "outputs": [
    {
     "data": {
      "text/plain": [
       "X       0.026089\n",
       "PRON    0.064677\n",
       ".       0.093314\n",
       "ADP     0.093557\n",
       "VERB    0.086155\n",
       "NUM     0.081422\n",
       "PRT     0.002670\n",
       "NOUN    0.225701\n",
       "DET     0.173401\n",
       "ADV     0.052906\n",
       "CONJ    0.055940\n",
       "ADJ     0.044048\n",
       "Name: ., dtype: float32"
      ]
     },
     "execution_count": 15,
     "metadata": {},
     "output_type": "execute_result"
    }
   ],
   "source": [
    "tags_df.loc['.', :]"
   ]
  },
  {
   "cell_type": "code",
   "execution_count": 16,
   "metadata": {},
   "outputs": [
    {
     "data": {
      "image/png": "[encoded data removed]",
      "text/plain": [
       "<Figure size 1296x864 with 2 Axes>"
      ]
     },
     "metadata": {
      "needs_background": "light"
     },
     "output_type": "display_data"
    }
   ],
   "source": [
    "# heatmap of tags matrix\n",
    "# T(i, j) means P(tag j given tag i)\n",
    "plt.figure(figsize=(18, 12))\n",
    "sns.heatmap(tags_df)\n",
    "plt.show()\n"
   ]
  },
  {
   "cell_type": "code",
   "execution_count": 17,
   "metadata": {},
   "outputs": [
    {
     "data": {
      "image/png": "[encoded data removed]",
      "text/plain": [
       "<Figure size 1296x864 with 2 Axes>"
      ]
     },
     "metadata": {
      "needs_background": "light"
     },
     "output_type": "display_data"
    }
   ],
   "source": [
    "# frequent tags\n",
    "# filter the df to get P(t2, t1) > 0.5\n",
    "tags_frequent = tags_df[tags_df>0.5]\n",
    "plt.figure(figsize=(18, 12))\n",
    "sns.heatmap(tags_frequent)\n",
    "plt.show()"
   ]
  },
  {
   "cell_type": "code",
   "execution_count": 18,
   "metadata": {},
   "outputs": [
    {
     "data": {
      "text/plain": [
       "70176"
      ]
     },
     "execution_count": 18,
     "metadata": {},
     "output_type": "execute_result"
    }
   ],
   "source": [
    "## Viterbi Algorithm\n",
    "\n",
    "len(train_tagged_words)"
   ]
  },
  {
   "cell_type": "code",
   "execution_count": 19,
   "metadata": {},
   "outputs": [],
   "source": [
    "# Viterbi Heuristic\n",
    "def Viterbi(words, train_bag = train_tagged_words):\n",
    "    state = []\n",
    "    T = list(set([pair[1] for pair in train_bag]))\n",
    "    \n",
    "    for key, word in enumerate(words):\n",
    "        #initialise list of probability column for a given observation\n",
    "        p = [] \n",
    "        for tag in T:\n",
    "            if key == 0:\n",
    "                transition_p = tags_df.loc['.', tag]\n",
    "            else:\n",
    "                transition_p = tags_df.loc[state[-1], tag]\n",
    "                \n",
    "            # compute emission and state probabilities\n",
    "            emission_p = word_given_tag(words[key], tag)[0]/word_given_tag(words[key], tag)[1]\n",
    "            state_probability = emission_p * transition_p    \n",
    "            p.append(state_probability)\n",
    "            \n",
    "        pmax = max(p)\n",
    "        # getting state for which probability is maximum\n",
    "        state_max = T[p.index(pmax)] \n",
    "        state.append(state_max)\n",
    "    return list(zip(words, state))"
   ]
  },
  {
   "cell_type": "code",
   "execution_count": 20,
   "metadata": {},
   "outputs": [
    {
     "data": {
      "text/plain": [
       "[[('``', '.'),\n",
       "  ('Florio', 'NOUN'),\n",
       "  (\"'s\", 'VERB'),\n",
       "  ('lying', 'VERB'),\n",
       "  (',', '.'),\n",
       "  (\"''\", '.'),\n",
       "  ('the', 'DET'),\n",
       "  ('voice', 'NOUN'),\n",
       "  ('goes', 'VERB'),\n",
       "  ('on', 'PRT'),\n",
       "  (',', '.'),\n",
       "  ('because', 'ADP'),\n",
       "  ('``', '.'),\n",
       "  ('the', 'DET'),\n",
       "  ('barrel', 'NOUN'),\n",
       "  ('on', 'ADP'),\n",
       "  ('Courter', 'NOUN'),\n",
       "  (\"'s\", 'PRT'),\n",
       "  ('land', 'NOUN'),\n",
       "  ('...', '.'),\n",
       "  ('contained', 'VERB'),\n",
       "  ('heating', 'NOUN'),\n",
       "  ('oil', 'NOUN'),\n",
       "  (',', '.'),\n",
       "  ('was', 'VERB'),\n",
       "  ('cleaned', 'VERB'),\n",
       "  ('*-1', 'X'),\n",
       "  ('up', 'PRT'),\n",
       "  ('and', 'CONJ'),\n",
       "  ('caused', 'VERB'),\n",
       "  ('no', 'DET'),\n",
       "  ('pollution', 'NOUN'),\n",
       "  ('.', '.'),\n",
       "  (\"''\", '.')],\n",
       " [('Charles', 'NOUN'),\n",
       "  ('D.', 'NOUN'),\n",
       "  ('Phipps', 'NOUN'),\n",
       "  ('Sr.', 'NOUN'),\n",
       "  (',', '.'),\n",
       "  ('Hermitage', 'NOUN'),\n",
       "  (',', '.'),\n",
       "  ('Pa.', 'NOUN'),\n",
       "  (',', '.'),\n",
       "  ('fined', 'VERB'),\n",
       "  ('*-1', 'X'),\n",
       "  ('$', '.'),\n",
       "  ('10,000', 'NUM'),\n",
       "  ('*U*', 'X'),\n",
       "  (';', '.'),\n",
       "  ('David', 'NOUN'),\n",
       "  ('Scott', 'NOUN'),\n",
       "  ('Rankin', 'NOUN'),\n",
       "  (',', '.'),\n",
       "  ('Lake', 'NOUN'),\n",
       "  ('St.', 'NOUN'),\n",
       "  ('Louis', 'NOUN'),\n",
       "  (',', '.'),\n",
       "  ('Mo.', 'NOUN'),\n",
       "  (',', '.'),\n",
       "  ('$', '.'),\n",
       "  ('15,000', 'NUM'),\n",
       "  ('*U*', 'X'),\n",
       "  (';', '.'),\n",
       "  ('Leigh', 'NOUN'),\n",
       "  ('A.', 'NOUN'),\n",
       "  ('Sanderoff', 'NOUN'),\n",
       "  (',', '.'),\n",
       "  ('Gaithersburg', 'NOUN'),\n",
       "  (',', '.'),\n",
       "  ('Md.', 'NOUN'),\n",
       "  (',', '.'),\n",
       "  ('fined', 'VERB'),\n",
       "  ('*-2', 'X'),\n",
       "  ('$', '.'),\n",
       "  ('45,000', 'NUM'),\n",
       "  ('*U*', 'X'),\n",
       "  (',', '.'),\n",
       "  ('ordered', 'VERB'),\n",
       "  ('*-2', 'X'),\n",
       "  ('*-3', 'X'),\n",
       "  ('to', 'PRT'),\n",
       "  ('disgorge', 'VERB'),\n",
       "  ('$', '.'),\n",
       "  ('12,252', 'NUM'),\n",
       "  ('*U*', 'X'),\n",
       "  (';', '.'),\n",
       "  ('Sandra', 'NOUN'),\n",
       "  ('Ann', 'NOUN'),\n",
       "  ('Smith', 'NOUN'),\n",
       "  (',', '.'),\n",
       "  ('Ridgefield', 'NOUN'),\n",
       "  (',', '.'),\n",
       "  ('N.J.', 'NOUN'),\n",
       "  (',', '.'),\n",
       "  ('$', '.'),\n",
       "  ('15,000', 'NUM'),\n",
       "  ('*U*', 'X'),\n",
       "  (';', '.'),\n",
       "  ('James', 'NOUN'),\n",
       "  ('G.', 'NOUN'),\n",
       "  ('Spence', 'NOUN'),\n",
       "  (',', '.'),\n",
       "  ('Aloha', 'NOUN'),\n",
       "  (',', '.'),\n",
       "  ('Ore.', 'NOUN'),\n",
       "  (',', '.'),\n",
       "  ('$', '.'),\n",
       "  ('5,000', 'NUM'),\n",
       "  ('*U*', 'X'),\n",
       "  ('and', 'CONJ'),\n",
       "  ('six-month', 'ADJ'),\n",
       "  ('suspension', 'NOUN'),\n",
       "  (';', '.'),\n",
       "  ('Mona', 'NOUN'),\n",
       "  ('Sun', 'NOUN'),\n",
       "  (',', '.'),\n",
       "  ('Jamaica', 'NOUN'),\n",
       "  ('Estates', 'NOUN'),\n",
       "  (',', '.'),\n",
       "  ('N.Y.', 'NOUN'),\n",
       "  (',', '.'),\n",
       "  ('$', '.'),\n",
       "  ('60,000', 'NUM'),\n",
       "  ('*U*', 'X'),\n",
       "  (';', '.'),\n",
       "  ('William', 'NOUN'),\n",
       "  ('Swearingen', 'NOUN'),\n",
       "  (',', '.'),\n",
       "  ('Minneapolis', 'NOUN'),\n",
       "  (',', '.'),\n",
       "  ('$', '.'),\n",
       "  ('15,000', 'NUM'),\n",
       "  ('*U*', 'X'),\n",
       "  ('and', 'CONJ'),\n",
       "  ('six-month', 'ADJ'),\n",
       "  ('suspension', 'NOUN'),\n",
       "  (';', '.'),\n",
       "  ('John', 'NOUN'),\n",
       "  ('Bew', 'NOUN'),\n",
       "  ('Wong', 'NOUN'),\n",
       "  (',', '.'),\n",
       "  ('San', 'NOUN'),\n",
       "  ('Francisco', 'NOUN'),\n",
       "  (',', '.'),\n",
       "  ('$', '.'),\n",
       "  ('25,000', 'NUM'),\n",
       "  ('*U*', 'X'),\n",
       "  (';', '.'),\n",
       "  ('Rabia', 'NOUN'),\n",
       "  ('M.', 'NOUN'),\n",
       "  ('Zayed', 'NOUN'),\n",
       "  (',', '.'),\n",
       "  ('San', 'NOUN'),\n",
       "  ('Francisco', 'NOUN'),\n",
       "  (',', '.'),\n",
       "  ('$', '.'),\n",
       "  ('50,000', 'NUM'),\n",
       "  ('*U*', 'X'),\n",
       "  ('.', '.')],\n",
       " [('Unfortunately', 'ADV'),\n",
       "  (',', '.'),\n",
       "  ('Japanese', 'ADJ'),\n",
       "  ('manufacturers', 'NOUN'),\n",
       "  ('have', 'VERB'),\n",
       "  ('neither', 'DET'),\n",
       "  ('good', 'ADJ'),\n",
       "  ('working', 'NOUN'),\n",
       "  ('conditions', 'NOUN'),\n",
       "  ('nor', 'CONJ'),\n",
       "  ('good', 'ADJ'),\n",
       "  ('compensation', 'NOUN'),\n",
       "  ('packages', 'NOUN'),\n",
       "  ('.', '.')],\n",
       " [('Mitsubishi', 'NOUN'),\n",
       "  (\"'s\", 'PRT'),\n",
       "  ('investment', 'NOUN'),\n",
       "  ('in', 'ADP'),\n",
       "  ('Free', 'NOUN'),\n",
       "  ('State', 'NOUN'),\n",
       "  ('is', 'VERB'),\n",
       "  ('``', '.'),\n",
       "  ('very', 'ADV'),\n",
       "  ('small', 'ADJ'),\n",
       "  ('...', '.'),\n",
       "  ('less', 'ADJ'),\n",
       "  ('than', 'ADP'),\n",
       "  ('$', '.'),\n",
       "  ('4', 'NUM'),\n",
       "  ('million', 'NUM'),\n",
       "  ('*U*', 'X'),\n",
       "  (',', '.'),\n",
       "  (\"''\", '.'),\n",
       "  ('Mr.', 'NOUN'),\n",
       "  ('Wakui', 'NOUN'),\n",
       "  ('says', 'VERB'),\n",
       "  ('0', 'X'),\n",
       "  ('*T*-1', 'X'),\n",
       "  ('.', '.')],\n",
       " [('``', '.'),\n",
       "  ('There', 'DET'),\n",
       "  ('is', 'VERB'),\n",
       "  ('always', 'ADV'),\n",
       "  ('a', 'DET'),\n",
       "  ('chance', 'NOUN'),\n",
       "  ('of', 'ADP'),\n",
       "  ('recession', 'NOUN'),\n",
       "  (',', '.'),\n",
       "  (\"''\", '.'),\n",
       "  ('added', 'VERB'),\n",
       "  ('*T*-2', 'X'),\n",
       "  ('Mr.', 'NOUN'),\n",
       "  ('Guffey', 'NOUN'),\n",
       "  (',', '.'),\n",
       "  ('``', '.'),\n",
       "  ('but', 'CONJ'),\n",
       "  ('if', 'ADP'),\n",
       "  ('you', 'PRON'),\n",
       "  ('ask', 'VERB'),\n",
       "  ('me', 'PRON'),\n",
       "  ('*-3', 'X'),\n",
       "  ('to', 'PRT'),\n",
       "  ('put', 'VERB'),\n",
       "  ('a', 'DET'),\n",
       "  ('percentage', 'NOUN'),\n",
       "  ('on', 'ADP'),\n",
       "  ('it', 'PRON'),\n",
       "  (',', '.'),\n",
       "  ('I', 'PRON'),\n",
       "  ('would', 'VERB'),\n",
       "  ('think', 'VERB'),\n",
       "  ('0', 'X'),\n",
       "  ('it', 'PRON'),\n",
       "  (\"'s\", 'VERB'),\n",
       "  ('well', 'ADV'),\n",
       "  ('below', 'ADP'),\n",
       "  ('a', 'DET'),\n",
       "  ('50', 'NUM'),\n",
       "  ('%', 'NOUN'),\n",
       "  ('chance', 'NOUN'),\n",
       "  ('.', '.')]]"
      ]
     },
     "execution_count": 20,
     "metadata": {},
     "output_type": "execute_result"
    }
   ],
   "source": [
    "# Running on entire test dataset would take more than 3-4hrs. \n",
    "# Let's test our Viterbi algorithm on a few sample sentences of test dataset\n",
    "\n",
    "random.seed(1234)\n",
    "\n",
    "# choose random 5 sents\n",
    "rndom = [random.randint(1,len(test_set)) for x in range(5)]\n",
    "\n",
    "# list of sents\n",
    "test_run = [test_set[i] for i in rndom]\n",
    "\n",
    "# list of tagged words\n",
    "test_run_base = [tup for sent in test_run for tup in sent]\n",
    "\n",
    "# list of untagged words\n",
    "test_tagged_words = [tup[0] for sent in test_run for tup in sent]\n",
    "test_run"
   ]
  },
  {
   "cell_type": "code",
   "execution_count": 21,
   "metadata": {},
   "outputs": [],
   "source": [
    "# tagging the test sentences\n",
    "start = time.time()\n",
    "tagged_seq = Viterbi(test_tagged_words)\n",
    "end = time.time()\n",
    "difference = end-start"
   ]
  },
  {
   "cell_type": "code",
   "execution_count": 22,
   "metadata": {},
   "outputs": [
    {
     "name": "stdout",
     "output_type": "stream",
     "text": [
      "Time taken in seconds:  42.53673505783081\n",
      "[('``', '.'), ('Florio', 'NOUN'), (\"'s\", 'PRT'), ('lying', 'VERB'), (',', '.'), (\"''\", '.'), ('the', 'DET'), ('voice', 'NOUN'), ('goes', 'VERB'), ('on', 'ADP'), (',', '.'), ('because', 'ADP'), ('``', '.'), ('the', 'DET'), ('barrel', 'NOUN'), ('on', 'ADP'), ('Courter', 'NOUN'), (\"'s\", 'PRT'), ('land', 'VERB'), ('...', '.'), ('contained', 'VERB'), ('heating', 'VERB'), ('oil', 'NOUN'), (',', '.'), ('was', 'VERB'), ('cleaned', 'X'), ('*-1', 'X'), ('up', 'PRT'), ('and', 'CONJ'), ('caused', 'VERB'), ('no', 'DET'), ('pollution', 'X'), ('.', '.'), (\"''\", '.'), ('Charles', 'NOUN'), ('D.', 'NOUN'), ('Phipps', 'X'), ('Sr.', 'X'), (',', '.'), ('Hermitage', 'NOUN'), (',', '.'), ('Pa.', 'NOUN'), (',', '.'), ('fined', 'VERB'), ('*-1', 'X'), ('$', '.'), ('10,000', 'NUM'), ('*U*', 'X'), (';', '.'), ('David', 'NOUN'), ('Scott', 'NOUN'), ('Rankin', 'X'), (',', '.'), ('Lake', 'NOUN'), ('St.', 'NOUN'), ('Louis', 'NOUN'), (',', '.'), ('Mo.', 'X'), (',', '.'), ('$', '.'), ('15,000', 'NUM'), ('*U*', 'X'), (';', '.'), ('Leigh', 'X'), ('A.', 'NOUN'), ('Sanderoff', 'X'), (',', '.'), ('Gaithersburg', 'X'), (',', '.'), ('Md.', 'X'), (',', '.'), ('fined', 'VERB'), ('*-2', 'X'), ('$', '.'), ('45,000', 'NUM'), ('*U*', 'X'), (',', '.'), ('ordered', 'VERB'), ('*-2', 'X'), ('*-3', 'X'), ('to', 'PRT'), ('disgorge', 'VERB'), ('$', '.'), ('12,252', 'X'), ('*U*', 'X'), (';', '.'), ('Sandra', 'X'), ('Ann', 'NOUN'), ('Smith', 'NOUN'), (',', '.'), ('Ridgefield', 'X'), (',', '.'), ('N.J.', 'NOUN'), (',', '.'), ('$', '.'), ('15,000', 'NUM'), ('*U*', 'X'), (';', '.'), ('James', 'NOUN'), ('G.', 'NOUN'), ('Spence', 'X'), (',', '.'), ('Aloha', 'X'), (',', '.'), ('Ore.', 'NOUN'), (',', '.'), ('$', '.'), ('5,000', 'NUM'), ('*U*', 'X'), ('and', 'CONJ'), ('six-month', 'ADJ'), ('suspension', 'NOUN'), (';', '.'), ('Mona', 'X'), ('Sun', 'NOUN'), (',', '.'), ('Jamaica', 'NOUN'), ('Estates', 'X'), (',', '.'), ('N.Y.', 'NOUN'), (',', '.'), ('$', '.'), ('60,000', 'NUM'), ('*U*', 'X'), (';', '.'), ('William', 'NOUN'), ('Swearingen', 'X'), (',', '.'), ('Minneapolis', 'NOUN'), (',', '.'), ('$', '.'), ('15,000', 'NUM'), ('*U*', 'X'), ('and', 'CONJ'), ('six-month', 'ADJ'), ('suspension', 'NOUN'), (';', '.'), ('John', 'NOUN'), ('Bew', 'X'), ('Wong', 'X'), (',', '.'), ('San', 'NOUN'), ('Francisco', 'NOUN'), (',', '.'), ('$', '.'), ('25,000', 'NUM'), ('*U*', 'X'), (';', '.'), ('Rabia', 'X'), ('M.', 'NOUN'), ('Zayed', 'X'), (',', '.'), ('San', 'NOUN'), ('Francisco', 'NOUN'), (',', '.'), ('$', '.'), ('50,000', 'NUM'), ('*U*', 'X'), ('.', '.'), ('Unfortunately', 'X'), (',', '.'), ('Japanese', 'ADJ'), ('manufacturers', 'NOUN'), ('have', 'VERB'), ('neither', 'DET'), ('good', 'ADJ'), ('working', 'NOUN'), ('conditions', 'NOUN'), ('nor', 'CONJ'), ('good', 'ADJ'), ('compensation', 'NOUN'), ('packages', 'NOUN'), ('.', '.'), ('Mitsubishi', 'NOUN'), (\"'s\", 'PRT'), ('investment', 'NOUN'), ('in', 'ADP'), ('Free', 'NOUN'), ('State', 'NOUN'), ('is', 'VERB'), ('``', '.'), ('very', 'ADV'), ('small', 'ADJ'), ('...', '.'), ('less', 'ADJ'), ('than', 'ADP'), ('$', '.'), ('4', 'NUM'), ('million', 'NUM'), ('*U*', 'X'), (',', '.'), (\"''\", '.'), ('Mr.', 'NOUN'), ('Wakui', 'NOUN'), ('says', 'VERB'), ('0', 'X'), ('*T*-1', 'X'), ('.', '.'), ('``', '.'), ('There', 'DET'), ('is', 'VERB'), ('always', 'ADV'), ('a', 'DET'), ('chance', 'NOUN'), ('of', 'ADP'), ('recession', 'NOUN'), (',', '.'), (\"''\", '.'), ('added', 'VERB'), ('*T*-2', 'X'), ('Mr.', 'NOUN'), ('Guffey', 'NOUN'), (',', '.'), ('``', '.'), ('but', 'CONJ'), ('if', 'ADP'), ('you', 'PRON'), ('ask', 'VERB'), ('me', 'PRON'), ('*-3', 'X'), ('to', 'PRT'), ('put', 'VERB'), ('a', 'DET'), ('percentage', 'NOUN'), ('on', 'ADP'), ('it', 'PRON'), (',', '.'), ('I', 'PRON'), ('would', 'VERB'), ('think', 'VERB'), ('0', 'X'), ('it', 'PRON'), (\"'s\", 'VERB'), ('well', 'ADV'), ('below', 'ADP'), ('a', 'DET'), ('50', 'NUM'), ('%', 'NOUN'), ('chance', 'NOUN'), ('.', '.')]\n"
     ]
    }
   ],
   "source": [
    "print(\"Time taken in seconds: \", difference)\n",
    "print(tagged_seq)\n",
    "#print(test_run_base)"
   ]
  },
  {
   "cell_type": "code",
   "execution_count": 23,
   "metadata": {},
   "outputs": [
    {
     "data": {
      "text/plain": [
       "0.89"
      ]
     },
     "execution_count": 23,
     "metadata": {},
     "output_type": "execute_result"
    }
   ],
   "source": [
    "# accuracy\n",
    "check = [i for i, j in zip(tagged_seq, test_run_base) if i == j] \n",
    "accuracy = round(len(check)/len(tagged_seq),2)\n",
    "accuracy"
   ]
  },
  {
   "cell_type": "markdown",
   "metadata": {},
   "source": [
    "#### We get around 90% of accuracy with the default Viterbi algorithm.\n",
    "#### Let's compare with the test sentences and see how it tagged the sentences"
   ]
  },
  {
   "cell_type": "code",
   "execution_count": 24,
   "metadata": {},
   "outputs": [
    {
     "data": {
      "text/plain": [
       "[[('Florio', 'NOUN'), ((\"'s\", 'PRT'), (\"'s\", 'VERB'))],\n",
       " [('goes', 'VERB'), (('on', 'ADP'), ('on', 'PRT'))],\n",
       " [(\"'s\", 'PRT'), (('land', 'VERB'), ('land', 'NOUN'))],\n",
       " [('contained', 'VERB'), (('heating', 'VERB'), ('heating', 'NOUN'))],\n",
       " [('was', 'VERB'), (('cleaned', 'X'), ('cleaned', 'VERB'))],\n",
       " [('no', 'DET'), (('pollution', 'X'), ('pollution', 'NOUN'))],\n",
       " [('D.', 'NOUN'), (('Phipps', 'X'), ('Phipps', 'NOUN'))],\n",
       " [('Phipps', 'NOUN'), (('Sr.', 'X'), ('Sr.', 'NOUN'))],\n",
       " [('Scott', 'NOUN'), (('Rankin', 'X'), ('Rankin', 'NOUN'))],\n",
       " [(',', '.'), (('Mo.', 'X'), ('Mo.', 'NOUN'))],\n",
       " [(';', '.'), (('Leigh', 'X'), ('Leigh', 'NOUN'))],\n",
       " [('A.', 'NOUN'), (('Sanderoff', 'X'), ('Sanderoff', 'NOUN'))],\n",
       " [(',', '.'), (('Gaithersburg', 'X'), ('Gaithersburg', 'NOUN'))],\n",
       " [(',', '.'), (('Md.', 'X'), ('Md.', 'NOUN'))],\n",
       " [('$', '.'), (('12,252', 'X'), ('12,252', 'NUM'))],\n",
       " [(';', '.'), (('Sandra', 'X'), ('Sandra', 'NOUN'))],\n",
       " [(',', '.'), (('Ridgefield', 'X'), ('Ridgefield', 'NOUN'))],\n",
       " [('G.', 'NOUN'), (('Spence', 'X'), ('Spence', 'NOUN'))],\n",
       " [(',', '.'), (('Aloha', 'X'), ('Aloha', 'NOUN'))],\n",
       " [(';', '.'), (('Mona', 'X'), ('Mona', 'NOUN'))],\n",
       " [('Jamaica', 'NOUN'), (('Estates', 'X'), ('Estates', 'NOUN'))],\n",
       " [('William', 'NOUN'), (('Swearingen', 'X'), ('Swearingen', 'NOUN'))],\n",
       " [('John', 'NOUN'), (('Bew', 'X'), ('Bew', 'NOUN'))],\n",
       " [('Bew', 'NOUN'), (('Wong', 'X'), ('Wong', 'NOUN'))],\n",
       " [(';', '.'), (('Rabia', 'X'), ('Rabia', 'NOUN'))],\n",
       " [('M.', 'NOUN'), (('Zayed', 'X'), ('Zayed', 'NOUN'))],\n",
       " [('.', '.'), (('Unfortunately', 'X'), ('Unfortunately', 'ADV'))]]"
      ]
     },
     "execution_count": 24,
     "metadata": {},
     "output_type": "execute_result"
    }
   ],
   "source": [
    "incorrect_tagged_cases = [[test_run_base[i-1],j] for i, j in enumerate(zip(tagged_seq, test_run_base)) if j[0]!=j[1]]\n",
    "incorrect_tagged_cases"
   ]
  },
  {
   "cell_type": "code",
   "execution_count": 25,
   "metadata": {},
   "outputs": [
    {
     "name": "stdout",
     "output_type": "stream",
     "text": [
      "[('``', '.'), ('Florio', 'NOUN'), (\"'s\", 'PRT'), ('lying', 'VERB'), (',', '.'), (\"''\", '.'), ('the', 'DET'), ('voice', 'NOUN'), ('goes', 'VERB'), ('on', 'ADP'), (',', '.'), ('because', 'ADP'), ('``', '.'), ('the', 'DET'), ('barrel', 'NOUN'), ('on', 'ADP'), ('Courter', 'NOUN'), (\"'s\", 'PRT'), ('land', 'VERB'), ('...', '.'), ('contained', 'VERB'), ('heating', 'VERB'), ('oil', 'NOUN'), (',', '.'), ('was', 'VERB'), ('cleaned', 'X'), ('*-1', 'X'), ('up', 'PRT'), ('and', 'CONJ'), ('caused', 'VERB'), ('no', 'DET'), ('pollution', 'X'), ('.', '.'), (\"''\", '.'), ('Charles', 'NOUN'), ('D.', 'NOUN'), ('Phipps', 'X'), ('Sr.', 'X'), (',', '.'), ('Hermitage', 'NOUN'), (',', '.'), ('Pa.', 'NOUN'), (',', '.'), ('fined', 'VERB'), ('*-1', 'X'), ('$', '.'), ('10,000', 'NUM'), ('*U*', 'X'), (';', '.'), ('David', 'NOUN'), ('Scott', 'NOUN'), ('Rankin', 'X'), (',', '.'), ('Lake', 'NOUN'), ('St.', 'NOUN'), ('Louis', 'NOUN'), (',', '.'), ('Mo.', 'X'), (',', '.'), ('$', '.'), ('15,000', 'NUM'), ('*U*', 'X'), (';', '.'), ('Leigh', 'X'), ('A.', 'NOUN'), ('Sanderoff', 'X'), (',', '.'), ('Gaithersburg', 'X'), (',', '.'), ('Md.', 'X'), (',', '.'), ('fined', 'VERB'), ('*-2', 'X'), ('$', '.'), ('45,000', 'NUM'), ('*U*', 'X'), (',', '.'), ('ordered', 'VERB'), ('*-2', 'X'), ('*-3', 'X'), ('to', 'PRT'), ('disgorge', 'VERB'), ('$', '.'), ('12,252', 'X'), ('*U*', 'X'), (';', '.'), ('Sandra', 'X'), ('Ann', 'NOUN'), ('Smith', 'NOUN'), (',', '.'), ('Ridgefield', 'X'), (',', '.'), ('N.J.', 'NOUN'), (',', '.'), ('$', '.'), ('15,000', 'NUM'), ('*U*', 'X'), (';', '.'), ('James', 'NOUN'), ('G.', 'NOUN'), ('Spence', 'X'), (',', '.'), ('Aloha', 'X'), (',', '.'), ('Ore.', 'NOUN'), (',', '.'), ('$', '.'), ('5,000', 'NUM'), ('*U*', 'X'), ('and', 'CONJ'), ('six-month', 'ADJ'), ('suspension', 'NOUN'), (';', '.'), ('Mona', 'X'), ('Sun', 'NOUN'), (',', '.'), ('Jamaica', 'NOUN'), ('Estates', 'X'), (',', '.'), ('N.Y.', 'NOUN'), (',', '.'), ('$', '.'), ('60,000', 'NUM'), ('*U*', 'X'), (';', '.'), ('William', 'NOUN'), ('Swearingen', 'X'), (',', '.'), ('Minneapolis', 'NOUN'), (',', '.'), ('$', '.'), ('15,000', 'NUM'), ('*U*', 'X'), ('and', 'CONJ'), ('six-month', 'ADJ'), ('suspension', 'NOUN'), (';', '.'), ('John', 'NOUN'), ('Bew', 'X'), ('Wong', 'X'), (',', '.'), ('San', 'NOUN'), ('Francisco', 'NOUN'), (',', '.'), ('$', '.'), ('25,000', 'NUM'), ('*U*', 'X'), (';', '.'), ('Rabia', 'X'), ('M.', 'NOUN'), ('Zayed', 'X'), (',', '.'), ('San', 'NOUN'), ('Francisco', 'NOUN'), (',', '.'), ('$', '.'), ('50,000', 'NUM'), ('*U*', 'X'), ('.', '.'), ('Unfortunately', 'X'), (',', '.'), ('Japanese', 'ADJ'), ('manufacturers', 'NOUN'), ('have', 'VERB'), ('neither', 'DET'), ('good', 'ADJ'), ('working', 'NOUN'), ('conditions', 'NOUN'), ('nor', 'CONJ'), ('good', 'ADJ'), ('compensation', 'NOUN'), ('packages', 'NOUN'), ('.', '.'), ('Mitsubishi', 'NOUN'), (\"'s\", 'PRT'), ('investment', 'NOUN'), ('in', 'ADP'), ('Free', 'NOUN'), ('State', 'NOUN'), ('is', 'VERB'), ('``', '.'), ('very', 'ADV'), ('small', 'ADJ'), ('...', '.'), ('less', 'ADJ'), ('than', 'ADP'), ('$', '.'), ('4', 'NUM'), ('million', 'NUM'), ('*U*', 'X'), (',', '.'), (\"''\", '.'), ('Mr.', 'NOUN'), ('Wakui', 'NOUN'), ('says', 'VERB'), ('0', 'X'), ('*T*-1', 'X'), ('.', '.'), ('``', '.'), ('There', 'DET'), ('is', 'VERB'), ('always', 'ADV'), ('a', 'DET'), ('chance', 'NOUN'), ('of', 'ADP'), ('recession', 'NOUN'), (',', '.'), (\"''\", '.'), ('added', 'VERB'), ('*T*-2', 'X'), ('Mr.', 'NOUN'), ('Guffey', 'NOUN'), (',', '.'), ('``', '.'), ('but', 'CONJ'), ('if', 'ADP'), ('you', 'PRON'), ('ask', 'VERB'), ('me', 'PRON'), ('*-3', 'X'), ('to', 'PRT'), ('put', 'VERB'), ('a', 'DET'), ('percentage', 'NOUN'), ('on', 'ADP'), ('it', 'PRON'), (',', '.'), ('I', 'PRON'), ('would', 'VERB'), ('think', 'VERB'), ('0', 'X'), ('it', 'PRON'), (\"'s\", 'VERB'), ('well', 'ADV'), ('below', 'ADP'), ('a', 'DET'), ('50', 'NUM'), ('%', 'NOUN'), ('chance', 'NOUN'), ('.', '.')]\n",
      "42.53673505783081\n"
     ]
    }
   ],
   "source": [
    "print(tagged_seq)\n",
    "print(difference)"
   ]
  },
  {
   "cell_type": "markdown",
   "metadata": {},
   "source": [
    "### Solve the problem of unknown words"
   ]
  },
  {
   "cell_type": "code",
   "execution_count": 26,
   "metadata": {},
   "outputs": [
    {
     "name": "stdout",
     "output_type": "stream",
     "text": [
      "Android is a mobile operating system developed by Google.\r\n",
      "\n",
      "Android has been the best-selling OS worldwide on smartphones since 2011 and on tablets since 2013.\r\n",
      "\n",
      "Google and Twitter made a deal in 2015 that gave Google access to Twitter's firehose.\r\n",
      "\n",
      "Twitter is an online news and social networking service on which users post and interact with messages known as tweets.\r\n",
      "\n",
      "Before entering politics, Donald Trump was a domineering businessman and a television personality.\r\n",
      "\n",
      "The 2018 FIFA World Cup is the 21st FIFA World Cup, an international football tournament contested once every four years.\r\n",
      "\n",
      "This is the first World Cup to be held in Eastern Europe and the 11th time that it has been held in Europe.\r\n",
      "\n",
      "Show me the cheapest round trips from Dallas to Atlanta\r\n",
      "\n",
      "I would like to see flights from Denver to Philadelphia.\r\n",
      "\n",
      "Show me the price of the flights leaving Atlanta at about 3 in the afternoon and arriving in San Francisco.\r\n",
      "\n",
      "NASA invited social media users to experience the launch of ICESAT-2 Satellite.\n"
     ]
    }
   ],
   "source": [
    "#Read the text file\n",
    "Sample_text=[]\n",
    "U = codecs.open(\"Sample text.txt\", encoding='utf-8')\n",
    "for text in U:\n",
    "    print(text)\n",
    "    Sample_text.append(text)"
   ]
  },
  {
   "cell_type": "code",
   "execution_count": 27,
   "metadata": {},
   "outputs": [
    {
     "data": {
      "text/plain": [
       "['Android is a mobile operating system developed by Google.\\r\\n',\n",
       " 'Android has been the best-selling OS worldwide on smartphones since 2011 and on tablets since 2013.\\r\\n',\n",
       " \"Google and Twitter made a deal in 2015 that gave Google access to Twitter's firehose.\\r\\n\",\n",
       " 'Twitter is an online news and social networking service on which users post and interact with messages known as tweets.\\r\\n',\n",
       " 'Before entering politics, Donald Trump was a domineering businessman and a television personality.\\r\\n',\n",
       " 'The 2018 FIFA World Cup is the 21st FIFA World Cup, an international football tournament contested once every four years.\\r\\n',\n",
       " 'This is the first World Cup to be held in Eastern Europe and the 11th time that it has been held in Europe.\\r\\n',\n",
       " 'Show me the cheapest round trips from Dallas to Atlanta\\r\\n',\n",
       " 'I would like to see flights from Denver to Philadelphia.\\r\\n',\n",
       " 'Show me the price of the flights leaving Atlanta at about 3 in the afternoon and arriving in San Francisco.\\r\\n',\n",
       " 'NASA invited social media users to experience the launch of ICESAT-2 Satellite.']"
      ]
     },
     "execution_count": 27,
     "metadata": {},
     "output_type": "execute_result"
    }
   ],
   "source": [
    "Sample_text"
   ]
  },
  {
   "cell_type": "code",
   "execution_count": 28,
   "metadata": {},
   "outputs": [
    {
     "data": {
      "text/plain": [
       "['Android is a mobile operating system developed by Google.',\n",
       " 'Android has been the best-selling OS worldwide on smartphones since 2011 and on tablets since 2013.',\n",
       " \"Google and Twitter made a deal in 2015 that gave Google access to Twitter's firehose.\",\n",
       " 'Twitter is an online news and social networking service on which users post and interact with messages known as tweets.',\n",
       " 'Before entering politics, Donald Trump was a domineering businessman and a television personality.',\n",
       " 'The 2018 FIFA World Cup is the 21st FIFA World Cup, an international football tournament contested once every four years.',\n",
       " 'This is the first World Cup to be held in Eastern Europe and the 11th time that it has been held in Europe.',\n",
       " 'Show me the cheapest round trips from Dallas to Atlanta',\n",
       " 'I would like to see flights from Denver to Philadelphia.',\n",
       " 'Show me the price of the flights leaving Atlanta at about 3 in the afternoon and arriving in San Francisco.',\n",
       " 'NASA invited social media users to experience the launch of ICESAT-2 Satellite.']"
      ]
     },
     "execution_count": 28,
     "metadata": {},
     "output_type": "execute_result"
    }
   ],
   "source": [
    "\n",
    "#Strip the special characters and empty strings in the list file\n",
    "stripped_lines =[sent.rstrip() for sent in Sample_text if sent.rstrip()!='']\n",
    "stripped_lines"
   ]
  },
  {
   "cell_type": "code",
   "execution_count": 29,
   "metadata": {},
   "outputs": [
    {
     "data": {
      "text/plain": [
       "[[('Florio', 'NOUN'), ((\"'s\", 'PRT'), (\"'s\", 'VERB'))],\n",
       " [('goes', 'VERB'), (('on', 'ADP'), ('on', 'PRT'))],\n",
       " [(\"'s\", 'PRT'), (('land', 'VERB'), ('land', 'NOUN'))],\n",
       " [('contained', 'VERB'), (('heating', 'VERB'), ('heating', 'NOUN'))],\n",
       " [('was', 'VERB'), (('cleaned', 'X'), ('cleaned', 'VERB'))],\n",
       " [('no', 'DET'), (('pollution', 'X'), ('pollution', 'NOUN'))],\n",
       " [('D.', 'NOUN'), (('Phipps', 'X'), ('Phipps', 'NOUN'))],\n",
       " [('Phipps', 'NOUN'), (('Sr.', 'X'), ('Sr.', 'NOUN'))],\n",
       " [('Scott', 'NOUN'), (('Rankin', 'X'), ('Rankin', 'NOUN'))],\n",
       " [(',', '.'), (('Mo.', 'X'), ('Mo.', 'NOUN'))],\n",
       " [(';', '.'), (('Leigh', 'X'), ('Leigh', 'NOUN'))],\n",
       " [('A.', 'NOUN'), (('Sanderoff', 'X'), ('Sanderoff', 'NOUN'))],\n",
       " [(',', '.'), (('Gaithersburg', 'X'), ('Gaithersburg', 'NOUN'))],\n",
       " [(',', '.'), (('Md.', 'X'), ('Md.', 'NOUN'))],\n",
       " [('$', '.'), (('12,252', 'X'), ('12,252', 'NUM'))],\n",
       " [(';', '.'), (('Sandra', 'X'), ('Sandra', 'NOUN'))],\n",
       " [(',', '.'), (('Ridgefield', 'X'), ('Ridgefield', 'NOUN'))],\n",
       " [('G.', 'NOUN'), (('Spence', 'X'), ('Spence', 'NOUN'))],\n",
       " [(',', '.'), (('Aloha', 'X'), ('Aloha', 'NOUN'))],\n",
       " [(';', '.'), (('Mona', 'X'), ('Mona', 'NOUN'))],\n",
       " [('Jamaica', 'NOUN'), (('Estates', 'X'), ('Estates', 'NOUN'))],\n",
       " [('William', 'NOUN'), (('Swearingen', 'X'), ('Swearingen', 'NOUN'))],\n",
       " [('John', 'NOUN'), (('Bew', 'X'), ('Bew', 'NOUN'))],\n",
       " [('Bew', 'NOUN'), (('Wong', 'X'), ('Wong', 'NOUN'))],\n",
       " [(';', '.'), (('Rabia', 'X'), ('Rabia', 'NOUN'))],\n",
       " [('M.', 'NOUN'), (('Zayed', 'X'), ('Zayed', 'NOUN'))],\n",
       " [('.', '.'), (('Unfortunately', 'X'), ('Unfortunately', 'ADV'))]]"
      ]
     },
     "execution_count": 29,
     "metadata": {},
     "output_type": "execute_result"
    }
   ],
   "source": [
    "\n",
    "#Get the words in the test set which are incorrectly classified\n",
    "incorrect_tagged_cases = [[test_run_base[i-1],j] for i, j in enumerate(zip(tagged_seq, test_run_base)) if j[0]!=j[1]]\n",
    "incorrect_tagged_cases"
   ]
  },
  {
   "cell_type": "code",
   "execution_count": 30,
   "metadata": {},
   "outputs": [
    {
     "data": {
      "text/plain": [
       "[[('Florio', 'NOUN'), ((\"'s\", 'PRT'), (\"'s\", 'VERB'))],\n",
       " [('goes', 'VERB'), (('on', 'ADP'), ('on', 'PRT'))],\n",
       " [(\"'s\", 'PRT'), (('land', 'VERB'), ('land', 'NOUN'))],\n",
       " [('contained', 'VERB'), (('heating', 'VERB'), ('heating', 'NOUN'))],\n",
       " [('was', 'VERB'), (('cleaned', 'X'), ('cleaned', 'VERB'))],\n",
       " [('no', 'DET'), (('pollution', 'X'), ('pollution', 'NOUN'))],\n",
       " [('D.', 'NOUN'), (('Phipps', 'X'), ('Phipps', 'NOUN'))],\n",
       " [('Phipps', 'NOUN'), (('Sr.', 'X'), ('Sr.', 'NOUN'))],\n",
       " [('Scott', 'NOUN'), (('Rankin', 'X'), ('Rankin', 'NOUN'))],\n",
       " [(',', '.'), (('Mo.', 'X'), ('Mo.', 'NOUN'))],\n",
       " [(';', '.'), (('Leigh', 'X'), ('Leigh', 'NOUN'))],\n",
       " [('A.', 'NOUN'), (('Sanderoff', 'X'), ('Sanderoff', 'NOUN'))],\n",
       " [(',', '.'), (('Gaithersburg', 'X'), ('Gaithersburg', 'NOUN'))],\n",
       " [(',', '.'), (('Md.', 'X'), ('Md.', 'NOUN'))],\n",
       " [('$', '.'), (('12,252', 'X'), ('12,252', 'NUM'))],\n",
       " [(';', '.'), (('Sandra', 'X'), ('Sandra', 'NOUN'))],\n",
       " [(',', '.'), (('Ridgefield', 'X'), ('Ridgefield', 'NOUN'))],\n",
       " [('G.', 'NOUN'), (('Spence', 'X'), ('Spence', 'NOUN'))],\n",
       " [(',', '.'), (('Aloha', 'X'), ('Aloha', 'NOUN'))],\n",
       " [(';', '.'), (('Mona', 'X'), ('Mona', 'NOUN'))],\n",
       " [('Jamaica', 'NOUN'), (('Estates', 'X'), ('Estates', 'NOUN'))],\n",
       " [('William', 'NOUN'), (('Swearingen', 'X'), ('Swearingen', 'NOUN'))],\n",
       " [('John', 'NOUN'), (('Bew', 'X'), ('Bew', 'NOUN'))],\n",
       " [('Bew', 'NOUN'), (('Wong', 'X'), ('Wong', 'NOUN'))],\n",
       " [(';', '.'), (('Rabia', 'X'), ('Rabia', 'NOUN'))],\n",
       " [('M.', 'NOUN'), (('Zayed', 'X'), ('Zayed', 'NOUN'))],\n",
       " [('.', '.'), (('Unfortunately', 'X'), ('Unfortunately', 'ADV'))]]"
      ]
     },
     "execution_count": 30,
     "metadata": {},
     "output_type": "execute_result"
    }
   ],
   "source": [
    "\n",
    "#Get the words in the test set which are incorrectly classified\n",
    "incorrect_tagged_cases = [[test_run_base[i-1],j] for i, j in enumerate(zip(tagged_seq, test_run_base)) if j[0]!=j[1]]\n",
    "incorrect_tagged_cases"
   ]
  },
  {
   "cell_type": "code",
   "execution_count": 31,
   "metadata": {},
   "outputs": [
    {
     "data": {
      "text/plain": [
       "[('Android', 'X'),\n",
       " ('is', 'VERB'),\n",
       " ('a', 'DET'),\n",
       " ('mobile', 'ADJ'),\n",
       " ('operating', 'NOUN'),\n",
       " ('system', 'NOUN'),\n",
       " ('developed', 'VERB'),\n",
       " ('by', 'ADP'),\n",
       " ('Google', 'X'),\n",
       " ('.', '.'),\n",
       " ('Android', 'X'),\n",
       " ('has', 'VERB'),\n",
       " ('been', 'VERB'),\n",
       " ('the', 'DET'),\n",
       " ('best-selling', 'ADJ'),\n",
       " ('OS', 'X'),\n",
       " ('worldwide', 'X'),\n",
       " ('on', 'ADP'),\n",
       " ('smartphones', 'X'),\n",
       " ('since', 'ADP'),\n",
       " ('2011', 'X'),\n",
       " ('and', 'CONJ'),\n",
       " ('on', 'ADP'),\n",
       " ('tablets', 'NOUN'),\n",
       " ('since', 'ADP'),\n",
       " ('2013', 'X'),\n",
       " ('.', '.'),\n",
       " ('Google', 'X'),\n",
       " ('and', 'CONJ'),\n",
       " ('Twitter', 'X'),\n",
       " ('made', 'VERB'),\n",
       " ('a', 'DET'),\n",
       " ('deal', 'NOUN'),\n",
       " ('in', 'ADP'),\n",
       " ('2015', 'X'),\n",
       " ('that', 'ADP'),\n",
       " ('gave', 'VERB'),\n",
       " ('Google', 'X'),\n",
       " ('access', 'NOUN'),\n",
       " ('to', 'PRT'),\n",
       " ('Twitter', 'X'),\n",
       " (\"'s\", 'PRT'),\n",
       " ('firehose', 'X'),\n",
       " ('.', '.'),\n",
       " ('Twitter', 'X'),\n",
       " ('is', 'VERB'),\n",
       " ('an', 'DET'),\n",
       " ('online', 'X'),\n",
       " ('news', 'NOUN'),\n",
       " ('and', 'CONJ'),\n",
       " ('social', 'ADJ'),\n",
       " ('networking', 'X'),\n",
       " ('service', 'NOUN'),\n",
       " ('on', 'ADP'),\n",
       " ('which', 'DET'),\n",
       " ('users', 'NOUN'),\n",
       " ('post', 'NOUN'),\n",
       " ('and', 'CONJ'),\n",
       " ('interact', 'X'),\n",
       " ('with', 'ADP'),\n",
       " ('messages', 'X'),\n",
       " ('known', 'VERB'),\n",
       " ('as', 'ADP'),\n",
       " ('tweets', 'X'),\n",
       " ('.', '.'),\n",
       " ('Before', 'ADP'),\n",
       " ('entering', 'VERB'),\n",
       " ('politics', 'NOUN'),\n",
       " (',', '.'),\n",
       " ('Donald', 'NOUN'),\n",
       " ('Trump', 'NOUN'),\n",
       " ('was', 'VERB'),\n",
       " ('a', 'DET'),\n",
       " ('domineering', 'X'),\n",
       " ('businessman', 'NOUN'),\n",
       " ('and', 'CONJ'),\n",
       " ('a', 'DET'),\n",
       " ('television', 'NOUN'),\n",
       " ('personality', 'X'),\n",
       " ('.', '.'),\n",
       " ('The', 'DET'),\n",
       " ('2018', 'X'),\n",
       " ('FIFA', 'X'),\n",
       " ('World', 'NOUN'),\n",
       " ('Cup', 'X'),\n",
       " ('is', 'VERB'),\n",
       " ('the', 'DET'),\n",
       " ('21st', 'X'),\n",
       " ('FIFA', 'X'),\n",
       " ('World', 'NOUN'),\n",
       " ('Cup', 'X'),\n",
       " (',', '.'),\n",
       " ('an', 'DET'),\n",
       " ('international', 'ADJ'),\n",
       " ('football', 'NOUN'),\n",
       " ('tournament', 'X'),\n",
       " ('contested', 'X'),\n",
       " ('once', 'ADV'),\n",
       " ('every', 'DET'),\n",
       " ('four', 'NUM'),\n",
       " ('years', 'NOUN'),\n",
       " ('.', '.'),\n",
       " ('This', 'DET'),\n",
       " ('is', 'VERB'),\n",
       " ('the', 'DET'),\n",
       " ('first', 'ADJ'),\n",
       " ('World', 'NOUN'),\n",
       " ('Cup', 'X'),\n",
       " ('to', 'PRT'),\n",
       " ('be', 'VERB'),\n",
       " ('held', 'VERB'),\n",
       " ('in', 'ADP'),\n",
       " ('Eastern', 'NOUN'),\n",
       " ('Europe', 'NOUN'),\n",
       " ('and', 'CONJ'),\n",
       " ('the', 'DET'),\n",
       " ('11th', 'ADJ'),\n",
       " ('time', 'NOUN'),\n",
       " ('that', 'ADP'),\n",
       " ('it', 'PRON'),\n",
       " ('has', 'VERB'),\n",
       " ('been', 'VERB'),\n",
       " ('held', 'VERB'),\n",
       " ('in', 'ADP'),\n",
       " ('Europe', 'NOUN'),\n",
       " ('.', '.'),\n",
       " ('Show', 'NOUN'),\n",
       " ('me', 'PRON'),\n",
       " ('the', 'DET'),\n",
       " ('cheapest', 'ADJ'),\n",
       " ('round', 'NOUN'),\n",
       " ('trips', 'X'),\n",
       " ('from', 'ADP'),\n",
       " ('Dallas', 'NOUN'),\n",
       " ('to', 'PRT'),\n",
       " ('Atlanta', 'NOUN'),\n",
       " ('I', 'PRON'),\n",
       " ('would', 'VERB'),\n",
       " ('like', 'ADP'),\n",
       " ('to', 'PRT'),\n",
       " ('see', 'VERB'),\n",
       " ('flights', 'NOUN'),\n",
       " ('from', 'ADP'),\n",
       " ('Denver', 'X'),\n",
       " ('to', 'PRT'),\n",
       " ('Philadelphia', 'NOUN'),\n",
       " ('.', '.'),\n",
       " ('Show', 'NOUN'),\n",
       " ('me', 'PRON'),\n",
       " ('the', 'DET'),\n",
       " ('price', 'NOUN'),\n",
       " ('of', 'ADP'),\n",
       " ('the', 'DET'),\n",
       " ('flights', 'NOUN'),\n",
       " ('leaving', 'VERB'),\n",
       " ('Atlanta', 'NOUN'),\n",
       " ('at', 'ADP'),\n",
       " ('about', 'ADP'),\n",
       " ('3', 'NUM'),\n",
       " ('in', 'ADP'),\n",
       " ('the', 'DET'),\n",
       " ('afternoon', 'NOUN'),\n",
       " ('and', 'CONJ'),\n",
       " ('arriving', 'X'),\n",
       " ('in', 'ADP'),\n",
       " ('San', 'NOUN'),\n",
       " ('Francisco', 'NOUN'),\n",
       " ('.', '.'),\n",
       " ('NASA', 'X'),\n",
       " ('invited', 'X'),\n",
       " ('social', 'ADJ'),\n",
       " ('media', 'NOUN'),\n",
       " ('users', 'NOUN'),\n",
       " ('to', 'PRT'),\n",
       " ('experience', 'NOUN'),\n",
       " ('the', 'DET'),\n",
       " ('launch', 'NOUN'),\n",
       " ('of', 'ADP'),\n",
       " ('ICESAT-2', 'X'),\n",
       " ('Satellite', 'X'),\n",
       " ('.', '.')]"
      ]
     },
     "execution_count": 31,
     "metadata": {},
     "output_type": "execute_result"
    }
   ],
   "source": [
    "#Get the predictions on the test sentences\n",
    "sample_pred_list =[]\n",
    "for line in stripped_lines:\n",
    "    sample_pred_list=sample_pred_list+list(Viterbi(word_tokenize(line)))\n",
    "sample_pred_list"
   ]
  },
  {
   "cell_type": "code",
   "execution_count": 32,
   "metadata": {},
   "outputs": [],
   "source": [
    "#Get the tokens in the test file\n",
    "sample_words=[tokens for line in stripped_lines for tokens in word_tokenize(line)]"
   ]
  },
  {
   "cell_type": "code",
   "execution_count": 33,
   "metadata": {},
   "outputs": [
    {
     "data": {
      "text/plain": [
       "['21st',\n",
       " 'trips',\n",
       " 'NASA',\n",
       " 'messages',\n",
       " 'contested',\n",
       " 'FIFA',\n",
       " 'Android',\n",
       " 'OS',\n",
       " 'arriving',\n",
       " 'domineering',\n",
       " 'Satellite',\n",
       " 'smartphones',\n",
       " 'personality',\n",
       " 'worldwide',\n",
       " 'interact',\n",
       " 'Twitter',\n",
       " 'Denver',\n",
       " 'Cup',\n",
       " 'tournament',\n",
       " 'firehose',\n",
       " '2013',\n",
       " 'invited',\n",
       " 'ICESAT-2',\n",
       " '2015',\n",
       " 'networking',\n",
       " 'online',\n",
       " 'Google',\n",
       " 'tweets',\n",
       " '2018',\n",
       " '2011']"
      ]
     },
     "execution_count": 33,
     "metadata": {},
     "output_type": "execute_result"
    }
   ],
   "source": [
    "#Get the list of words which are present in test lines but not in the training corpus\n",
    "words_not_in_corpus = list(set(sample_words) - set(tokens))\n",
    "words_not_in_corpus"
   ]
  },
  {
   "cell_type": "code",
   "execution_count": 34,
   "metadata": {},
   "outputs": [
    {
     "data": {
      "text/plain": [
       "[('Android', 'X'),\n",
       " ('Google', 'X'),\n",
       " ('Android', 'X'),\n",
       " ('OS', 'X'),\n",
       " ('worldwide', 'X'),\n",
       " ('smartphones', 'X'),\n",
       " ('2011', 'X'),\n",
       " ('2013', 'X'),\n",
       " ('Google', 'X'),\n",
       " ('Twitter', 'X'),\n",
       " ('2015', 'X'),\n",
       " ('Google', 'X'),\n",
       " ('Twitter', 'X'),\n",
       " ('firehose', 'X'),\n",
       " ('Twitter', 'X'),\n",
       " ('online', 'X'),\n",
       " ('networking', 'X'),\n",
       " ('interact', 'X'),\n",
       " ('messages', 'X'),\n",
       " ('tweets', 'X'),\n",
       " ('domineering', 'X'),\n",
       " ('personality', 'X'),\n",
       " ('2018', 'X'),\n",
       " ('FIFA', 'X'),\n",
       " ('Cup', 'X'),\n",
       " ('21st', 'X'),\n",
       " ('FIFA', 'X'),\n",
       " ('Cup', 'X'),\n",
       " ('tournament', 'X'),\n",
       " ('contested', 'X'),\n",
       " ('Cup', 'X'),\n",
       " ('trips', 'X'),\n",
       " ('Denver', 'X'),\n",
       " ('arriving', 'X'),\n",
       " ('NASA', 'X'),\n",
       " ('invited', 'X'),\n",
       " ('ICESAT-2', 'X'),\n",
       " ('Satellite', 'X')]"
      ]
     },
     "execution_count": 34,
     "metadata": {},
     "output_type": "execute_result"
    }
   ],
   "source": [
    "#Get the tags predicted for unknown words\n",
    "[tup for tup in sample_pred_list for word in words_not_in_corpus if tup[0]==word ]"
   ]
  },
  {
   "cell_type": "code",
   "execution_count": 35,
   "metadata": {},
   "outputs": [
    {
     "data": {
      "text/plain": [
       "Counter({'DET': 6094,\n",
       "         'ADJ': 4462,\n",
       "         'NOUN': 20129,\n",
       "         'ADP': 6889,\n",
       "         '.': 8241,\n",
       "         'PRT': 2256,\n",
       "         'VERB': 9426,\n",
       "         'PRON': 1856,\n",
       "         'NUM': 2431,\n",
       "         'X': 4609,\n",
       "         'CONJ': 1575,\n",
       "         'ADV': 2208})"
      ]
     },
     "execution_count": 35,
     "metadata": {},
     "output_type": "execute_result"
    }
   ],
   "source": [
    "#Let us see the count of all tags in the training set\n",
    "from collections import Counter\n",
    "tag_counts = Counter(pair[1] for pair in train_tagged_words)\n",
    "tag_counts"
   ]
  },
  {
   "cell_type": "code",
   "execution_count": 36,
   "metadata": {},
   "outputs": [
    {
     "data": {
      "text/plain": [
       "[('NOUN', 20129), ('VERB', 9426), ('.', 8241), ('ADP', 6889), ('DET', 6094)]"
      ]
     },
     "execution_count": 36,
     "metadata": {},
     "output_type": "execute_result"
    }
   ],
   "source": [
    "# see most common tags can in the training corpus\n",
    "tag_counts.most_common(5)"
   ]
  },
  {
   "cell_type": "code",
   "execution_count": 37,
   "metadata": {},
   "outputs": [
    {
     "data": {
      "text/plain": [
       "Counter({'PRT': 1, 'ADP': 1, 'VERB': 2, 'X': 23})"
      ]
     },
     "execution_count": 37,
     "metadata": {},
     "output_type": "execute_result"
    }
   ],
   "source": [
    "\n",
    "#Lets see count of incorrectly classfied words for each tag\n",
    "wrong_tag_counts = Counter(pair[1][0][1] for pair in incorrect_tagged_cases)\n",
    "wrong_tag_counts"
   ]
  },
  {
   "cell_type": "code",
   "execution_count": 38,
   "metadata": {},
   "outputs": [
    {
     "name": "stdout",
     "output_type": "stream",
     "text": [
      "0.20485890091237005\n"
     ]
    },
    {
     "data": {
      "text/plain": [
       "[('arranged', 'VERB'),\n",
       " ('worried', 'VERB'),\n",
       " ('based', 'VERB'),\n",
       " ('compared', 'VERB'),\n",
       " ('agreed', 'VERB'),\n",
       " ('acquired', 'VERB'),\n",
       " ('cited', 'VERB'),\n",
       " ('used', 'VERB'),\n",
       " ('expected', 'VERB'),\n",
       " ('delivered', 'VERB'),\n",
       " ('produced', 'VERB'),\n",
       " ('reorganized', 'VERB'),\n",
       " ('named', 'VERB'),\n",
       " ('noted', 'VERB'),\n",
       " ('expected', 'VERB'),\n",
       " ('attributed', 'VERB'),\n",
       " ('ended', 'VERB'),\n",
       " ('urged', 'VERB'),\n",
       " ('auctioned', 'VERB'),\n",
       " ('expressed', 'VERB')]"
      ]
     },
     "execution_count": 38,
     "metadata": {},
     "output_type": "execute_result"
    }
   ],
   "source": [
    "\n",
    "# Let us see the percentage of verbs which are classifed as 'verb which end with 'ed'\n",
    "verbs = [pair for pair in train_tagged_words if pair[1]=='VERB']\n",
    "ed_verbs = [pair for pair in verbs if pair[0].endswith('ed')]\n",
    "print(len(ed_verbs) / len(verbs))\n",
    "ed_verbs[:20]"
   ]
  },
  {
   "cell_type": "code",
   "execution_count": 39,
   "metadata": {},
   "outputs": [
    {
     "name": "stdout",
     "output_type": "stream",
     "text": [
      "0.109484404837683\n"
     ]
    },
    {
     "data": {
      "text/plain": [
       "[('proving', 'VERB'),\n",
       " ('growing', 'VERB'),\n",
       " ('trading', 'VERB'),\n",
       " ('offending', 'VERB'),\n",
       " ('continuing', 'VERB'),\n",
       " ('banning', 'VERB'),\n",
       " ('equaling', 'VERB'),\n",
       " ('reflecting', 'VERB'),\n",
       " ('according', 'VERB'),\n",
       " ('according', 'VERB'),\n",
       " ('acknowledging', 'VERB'),\n",
       " ('going', 'VERB'),\n",
       " ('increasing', 'VERB'),\n",
       " ('maintaining', 'VERB'),\n",
       " ('increasing', 'VERB'),\n",
       " ('yielding', 'VERB'),\n",
       " ('according', 'VERB'),\n",
       " ('producing', 'VERB'),\n",
       " ('providing', 'VERB'),\n",
       " ('noticing', 'VERB')]"
      ]
     },
     "execution_count": 39,
     "metadata": {},
     "output_type": "execute_result"
    }
   ],
   "source": [
    "# Let us see the percentage of verbs which are classifed as 'verb which end with 'ing'\n",
    "verbs = [pair for pair in train_tagged_words if pair[1]=='VERB']\n",
    "ing_verbs = [pair for pair in verbs if pair[0].endswith('ing')]\n",
    "print(len(ing_verbs) / len(verbs))\n",
    "ing_verbs[:20]"
   ]
  },
  {
   "cell_type": "code",
   "execution_count": 40,
   "metadata": {},
   "outputs": [
    {
     "name": "stdout",
     "output_type": "stream",
     "text": [
      "4462\n",
      "3126\n",
      "0.7005826983415508\n"
     ]
    }
   ],
   "source": [
    "#Lets see percentage of Adjective tags followed by nouns\n",
    "# create a list of all tags (without the words)\n",
    "tags = [pair[1] for pair in train_tagged_words]\n",
    "\n",
    "# create a list of Adj tags\n",
    "adj_tags = [t for t in tags if t == 'ADJ']\n",
    "\n",
    "# create a list of (ADJ, Noun) tags\n",
    "adj_noun_tags = [(t, tags[index+1]) for index, t in enumerate(tags) \n",
    "              if t=='ADJ' and tags[index+1]=='NOUN']\n",
    "\n",
    "print(len(adj_tags))\n",
    "print(len(adj_noun_tags))\n",
    "print(len(adj_noun_tags) / len(adj_tags))"
   ]
  },
  {
   "cell_type": "code",
   "execution_count": 41,
   "metadata": {},
   "outputs": [
    {
     "name": "stdout",
     "output_type": "stream",
     "text": [
      "6094\n",
      "3867\n",
      "0.6345585822120118\n"
     ]
    }
   ],
   "source": [
    "#Lets see percentage of Determinent tags followed by nouns\n",
    "dt_tags = [t for t in tags if t == 'DET']\n",
    "dt_noun_tags = [(t, tags[index+1]) for index, t in enumerate(tags) \n",
    "              if t=='DET' and tags[index+1]=='NOUN']\n",
    "\n",
    "print(len(dt_tags))\n",
    "print(len(dt_noun_tags))\n",
    "print(len(dt_noun_tags) / len(dt_tags))"
   ]
  },
  {
   "cell_type": "code",
   "execution_count": 42,
   "metadata": {},
   "outputs": [
    {
     "name": "stdout",
     "output_type": "stream",
     "text": [
      "2208\n",
      "768\n",
      "0.34782608695652173\n"
     ]
    }
   ],
   "source": [
    "#Lets see percentage of Adverbs tags followed by Verbs\n",
    "adv_tags = [t for t in tags if t == 'ADV']\n",
    "adv_vb_tags = [(t, tags[index+1]) for index, t in enumerate(tags) \n",
    "              if t=='ADV' and tags[index+1]=='VERB']\n",
    "\n",
    "print(len(adv_tags))\n",
    "print(len(adv_vb_tags))\n",
    "print(len(adv_vb_tags) / len(adv_tags))"
   ]
  },
  {
   "cell_type": "code",
   "execution_count": 43,
   "metadata": {},
   "outputs": [],
   "source": [
    "# specify patterns for tagging\n",
    "patterns = [\n",
    "    (r'.*ing$', 'VERB'),              # gerund\n",
    "    (r'.*ed$', 'VERB'),               # past tense verbs\n",
    "    (r'.*es$', 'VERB'),               # singular present verbs\n",
    "    (r'.*ould$', 'VERB'),              # modal verbs\n",
    "    (r'.*\\'s$', 'NOUN'),              # possessive nouns\n",
    "    (r'.*s$', 'NOUN'),                # plural nouns\n",
    "    (r'^-?[0-9]+(.[0-9]+)?$', 'NUM'), # cardinal numbers\n",
    "    (r'(The|the|A|a|An|an)$', 'DET'),   # articles or determinants\n",
    "    (r'.*able$', 'ADJ'),                # adjectives\n",
    "    (r'.*ness$', 'NOUN'),                # nouns formed from adjectives\n",
    "    (r'.*ly$', 'ADV'),                  # adverbs\n",
    "    (r'.*', 'NOUN')                    # nouns\n",
    "]"
   ]
  },
  {
   "cell_type": "code",
   "execution_count": 44,
   "metadata": {},
   "outputs": [
    {
     "data": {
      "text/plain": [
       "0.9475081967213115"
      ]
     },
     "execution_count": 44,
     "metadata": {},
     "output_type": "execute_result"
    }
   ],
   "source": [
    "# rule based tagger\n",
    "rule_based_tagger = nltk.RegexpTagger(patterns)\n",
    "\n",
    "# lexicon backed up by the rule-based tagger\n",
    "lexicon_tagger = nltk.UnigramTagger(train_set, backoff=rule_based_tagger)\n",
    "\n",
    "lexicon_tagger.evaluate(test_set)"
   ]
  },
  {
   "cell_type": "markdown",
   "metadata": {},
   "source": [
    "#### Evaluating tagging accuracy"
   ]
  },
  {
   "cell_type": "code",
   "execution_count": 45,
   "metadata": {},
   "outputs": [],
   "source": [
    "#Trigram tagger backed by Bigram backed by Unigram which is backed by rule based tagger\n",
    "t0 = nltk.RegexpTagger(patterns)\n",
    "t1 = nltk.UnigramTagger(train_set, backoff=t0)\n",
    "t2 = nltk.BigramTagger(train_set, backoff=t1)\n",
    "t3 = nltk.TrigramTagger(train_set, backoff=t2)"
   ]
  },
  {
   "cell_type": "code",
   "execution_count": 46,
   "metadata": {},
   "outputs": [],
   "source": [
    "\n",
    "#Import libraries for brill\n",
    "import nltk.tag\n",
    "from nltk.tag import brill\n",
    "from nltk.tag.brill import *\n",
    "from nltk.tbl.template import Template\n",
    "from nltk.tag import BrillTaggerTrainer\n",
    "\n",
    "#Clear existing templates if any\n",
    "Template._cleartemplates()\n",
    "\n",
    "#Load the fntbl37 template\n",
    "templates = fntbl37()\n",
    " \n",
    "#Train the Brill model\n",
    "trainer = BrillTaggerTrainer(t3, templates)\n",
    "brill_tagger = trainer.train(train_set, max_rules=100, min_score=3)"
   ]
  },
  {
   "cell_type": "code",
   "execution_count": 47,
   "metadata": {},
   "outputs": [],
   "source": [
    "# Viterbi Heuristic\n",
    "def Viterbi_updated_model_1(words, train_bag = train_tagged_words):\n",
    "    state = []\n",
    "    T = list(set([pair[1] for pair in train_bag]))\n",
    "    \n",
    "    for key, word in enumerate(words):\n",
    "        #initialise list of probability column for a given observation\n",
    "        p = [] \n",
    "        for tag in T:\n",
    "            if key == 0:\n",
    "                transition_p = tags_df.loc['.', tag]\n",
    "            else:\n",
    "                transition_p = tags_df.loc[state[-1], tag]\n",
    "                \n",
    "            # compute emission and state probabilities\n",
    "            emission_p = word_given_tag(words[key], tag)[0]/word_given_tag(words[key], tag)[1]\n",
    "            state_probability = emission_p * transition_p    \n",
    "            p.append(state_probability)\n",
    "            \n",
    "        pmax = max(p)\n",
    "       \n",
    "        #Check if state probability is zero\n",
    "        if(pmax==0.0):\n",
    "            #If state probability is zero i.e if the word is unknown if updates the tag based on the brill tagger\n",
    "            state_max = brill_tagger.tag([word])[0][1]\n",
    "        else:\n",
    "            # getting state for which probability is maximum\n",
    "            state_max = T[p.index(pmax)] \n",
    "        state.append(state_max)\n",
    "    return list(zip(words, state))"
   ]
  },
  {
   "cell_type": "markdown",
   "metadata": {},
   "source": [
    "### Compare the tagging accuracies of the modifications with the vanilla Viterbi algorithm"
   ]
  },
  {
   "cell_type": "code",
   "execution_count": 48,
   "metadata": {},
   "outputs": [
    {
     "name": "stdout",
     "output_type": "stream",
     "text": [
      "47.83265662193298\n"
     ]
    }
   ],
   "source": [
    "# tagging the test sentences with the updated Viterbi algorithm\n",
    "start = time.time()\n",
    "updated_tagged_seq = Viterbi_updated_model_1(test_tagged_words)\n",
    "end = time.time()\n",
    "difference = end-start\n",
    "#Print total time taken to train the algorithm\n",
    "print(difference)"
   ]
  },
  {
   "cell_type": "code",
   "execution_count": 49,
   "metadata": {},
   "outputs": [
    {
     "data": {
      "text/plain": [
       "0.975"
      ]
     },
     "execution_count": 49,
     "metadata": {},
     "output_type": "execute_result"
    }
   ],
   "source": [
    "# Calculate the accuracy for the updated Viterbi algorithm - Model 1\n",
    "check = [i for i, j in zip(updated_tagged_seq, test_run_base) if i == j] \n",
    "accuracy = len(check)/len(updated_tagged_seq)\n",
    "accuracy"
   ]
  },
  {
   "cell_type": "markdown",
   "metadata": {},
   "source": [
    "### List down cases which were incorrectly tagged by original POS tagger and got corrected by your modifications"
   ]
  },
  {
   "cell_type": "code",
   "execution_count": 50,
   "metadata": {},
   "outputs": [
    {
     "name": "stdout",
     "output_type": "stream",
     "text": [
      "[('Android', 'X'), ('is', 'VERB'), ('a', 'DET'), ('mobile', 'ADJ'), ('operating', 'NOUN'), ('system', 'NOUN'), ('developed', 'VERB'), ('by', 'ADP'), ('Google', 'X'), ('.', '.')]\n",
      "[('Android', 'X'), ('has', 'VERB'), ('been', 'VERB'), ('the', 'DET'), ('best-selling', 'ADJ'), ('OS', 'X'), ('worldwide', 'X'), ('on', 'ADP'), ('smartphones', 'X'), ('since', 'ADP'), ('2011', 'X'), ('and', 'CONJ'), ('on', 'ADP'), ('tablets', 'NOUN'), ('since', 'ADP'), ('2013', 'X'), ('.', '.')]\n",
      "[('Google', 'X'), ('and', 'CONJ'), ('Twitter', 'X'), ('made', 'VERB'), ('a', 'DET'), ('deal', 'NOUN'), ('in', 'ADP'), ('2015', 'X'), ('that', 'ADP'), ('gave', 'VERB'), ('Google', 'X'), ('access', 'NOUN'), ('to', 'PRT'), ('Twitter', 'X'), (\"'s\", 'PRT'), ('firehose', 'X'), ('.', '.')]\n",
      "[('Twitter', 'X'), ('is', 'VERB'), ('an', 'DET'), ('online', 'X'), ('news', 'NOUN'), ('and', 'CONJ'), ('social', 'ADJ'), ('networking', 'X'), ('service', 'NOUN'), ('on', 'ADP'), ('which', 'DET'), ('users', 'NOUN'), ('post', 'NOUN'), ('and', 'CONJ'), ('interact', 'X'), ('with', 'ADP'), ('messages', 'X'), ('known', 'VERB'), ('as', 'ADP'), ('tweets', 'X'), ('.', '.')]\n",
      "[('Before', 'ADP'), ('entering', 'VERB'), ('politics', 'NOUN'), (',', '.'), ('Donald', 'NOUN'), ('Trump', 'NOUN'), ('was', 'VERB'), ('a', 'DET'), ('domineering', 'X'), ('businessman', 'NOUN'), ('and', 'CONJ'), ('a', 'DET'), ('television', 'NOUN'), ('personality', 'X'), ('.', '.')]\n",
      "[('The', 'DET'), ('2018', 'X'), ('FIFA', 'X'), ('World', 'NOUN'), ('Cup', 'X'), ('is', 'VERB'), ('the', 'DET'), ('21st', 'X'), ('FIFA', 'X'), ('World', 'NOUN'), ('Cup', 'X'), (',', '.'), ('an', 'DET'), ('international', 'ADJ'), ('football', 'NOUN'), ('tournament', 'X'), ('contested', 'X'), ('once', 'ADV'), ('every', 'DET'), ('four', 'NUM'), ('years', 'NOUN'), ('.', '.')]\n",
      "[('This', 'DET'), ('is', 'VERB'), ('the', 'DET'), ('first', 'ADJ'), ('World', 'NOUN'), ('Cup', 'X'), ('to', 'PRT'), ('be', 'VERB'), ('held', 'VERB'), ('in', 'ADP'), ('Eastern', 'NOUN'), ('Europe', 'NOUN'), ('and', 'CONJ'), ('the', 'DET'), ('11th', 'ADJ'), ('time', 'NOUN'), ('that', 'ADP'), ('it', 'PRON'), ('has', 'VERB'), ('been', 'VERB'), ('held', 'VERB'), ('in', 'ADP'), ('Europe', 'NOUN'), ('.', '.')]\n",
      "[('Show', 'NOUN'), ('me', 'PRON'), ('the', 'DET'), ('cheapest', 'ADJ'), ('round', 'NOUN'), ('trips', 'X'), ('from', 'ADP'), ('Dallas', 'NOUN'), ('to', 'PRT'), ('Atlanta', 'NOUN')]\n",
      "[('I', 'PRON'), ('would', 'VERB'), ('like', 'ADP'), ('to', 'PRT'), ('see', 'VERB'), ('flights', 'NOUN'), ('from', 'ADP'), ('Denver', 'X'), ('to', 'PRT'), ('Philadelphia', 'NOUN'), ('.', '.')]\n",
      "[('Show', 'NOUN'), ('me', 'PRON'), ('the', 'DET'), ('price', 'NOUN'), ('of', 'ADP'), ('the', 'DET'), ('flights', 'NOUN'), ('leaving', 'VERB'), ('Atlanta', 'NOUN'), ('at', 'ADP'), ('about', 'ADP'), ('3', 'NUM'), ('in', 'ADP'), ('the', 'DET'), ('afternoon', 'NOUN'), ('and', 'CONJ'), ('arriving', 'X'), ('in', 'ADP'), ('San', 'NOUN'), ('Francisco', 'NOUN'), ('.', '.')]\n",
      "[('NASA', 'X'), ('invited', 'X'), ('social', 'ADJ'), ('media', 'NOUN'), ('users', 'NOUN'), ('to', 'PRT'), ('experience', 'NOUN'), ('the', 'DET'), ('launch', 'NOUN'), ('of', 'ADP'), ('ICESAT-2', 'X'), ('Satellite', 'X'), ('.', '.')]\n"
     ]
    }
   ],
   "source": [
    "#Let us print the test lines with the initial Viterbi algorithm\n",
    "for line in stripped_lines:\n",
    "    print(list(Viterbi(word_tokenize(line))))"
   ]
  },
  {
   "cell_type": "code",
   "execution_count": 51,
   "metadata": {},
   "outputs": [
    {
     "name": "stdout",
     "output_type": "stream",
     "text": [
      "[('Android', 'NOUN'), ('is', 'VERB'), ('a', 'DET'), ('mobile', 'ADJ'), ('operating', 'NOUN'), ('system', 'NOUN'), ('developed', 'VERB'), ('by', 'ADP'), ('Google', 'NOUN'), ('.', '.')]\n",
      "[('Android', 'NOUN'), ('has', 'VERB'), ('been', 'VERB'), ('the', 'DET'), ('best-selling', 'ADJ'), ('OS', 'NOUN'), ('worldwide', 'NOUN'), ('on', 'ADP'), ('smartphones', 'VERB'), ('since', 'ADP'), ('2011', 'NUM'), ('and', 'CONJ'), ('on', 'ADP'), ('tablets', 'NOUN'), ('since', 'ADP'), ('2013', 'NUM'), ('.', '.')]\n",
      "[('Google', 'NOUN'), ('and', 'CONJ'), ('Twitter', 'NOUN'), ('made', 'VERB'), ('a', 'DET'), ('deal', 'NOUN'), ('in', 'ADP'), ('2015', 'NUM'), ('that', 'ADP'), ('gave', 'VERB'), ('Google', 'NOUN'), ('access', 'NOUN'), ('to', 'PRT'), ('Twitter', 'NOUN'), (\"'s\", 'PRT'), ('firehose', 'NOUN'), ('.', '.')]\n",
      "[('Twitter', 'NOUN'), ('is', 'VERB'), ('an', 'DET'), ('online', 'NOUN'), ('news', 'NOUN'), ('and', 'CONJ'), ('social', 'ADJ'), ('networking', 'VERB'), ('service', 'NOUN'), ('on', 'ADP'), ('which', 'DET'), ('users', 'NOUN'), ('post', 'NOUN'), ('and', 'CONJ'), ('interact', 'NOUN'), ('with', 'ADP'), ('messages', 'VERB'), ('known', 'VERB'), ('as', 'ADP'), ('tweets', 'NOUN'), ('.', '.')]\n",
      "[('Before', 'ADP'), ('entering', 'VERB'), ('politics', 'NOUN'), (',', '.'), ('Donald', 'NOUN'), ('Trump', 'NOUN'), ('was', 'VERB'), ('a', 'DET'), ('domineering', 'VERB'), ('businessman', 'NOUN'), ('and', 'CONJ'), ('a', 'DET'), ('television', 'NOUN'), ('personality', 'NOUN'), ('.', '.')]\n",
      "[('The', 'DET'), ('2018', 'NUM'), ('FIFA', 'NOUN'), ('World', 'NOUN'), ('Cup', 'NOUN'), ('is', 'VERB'), ('the', 'DET'), ('21st', 'NOUN'), ('FIFA', 'NOUN'), ('World', 'NOUN'), ('Cup', 'NOUN'), (',', '.'), ('an', 'DET'), ('international', 'ADJ'), ('football', 'NOUN'), ('tournament', 'NOUN'), ('contested', 'VERB'), ('once', 'ADV'), ('every', 'DET'), ('four', 'NUM'), ('years', 'NOUN'), ('.', '.')]\n",
      "[('This', 'DET'), ('is', 'VERB'), ('the', 'DET'), ('first', 'ADJ'), ('World', 'NOUN'), ('Cup', 'NOUN'), ('to', 'PRT'), ('be', 'VERB'), ('held', 'VERB'), ('in', 'ADP'), ('Eastern', 'NOUN'), ('Europe', 'NOUN'), ('and', 'CONJ'), ('the', 'DET'), ('11th', 'ADJ'), ('time', 'NOUN'), ('that', 'ADP'), ('it', 'PRON'), ('has', 'VERB'), ('been', 'VERB'), ('held', 'VERB'), ('in', 'ADP'), ('Europe', 'NOUN'), ('.', '.')]\n",
      "[('Show', 'NOUN'), ('me', 'PRON'), ('the', 'DET'), ('cheapest', 'ADJ'), ('round', 'NOUN'), ('trips', 'NOUN'), ('from', 'ADP'), ('Dallas', 'NOUN'), ('to', 'PRT'), ('Atlanta', 'NOUN')]\n",
      "[('I', 'PRON'), ('would', 'VERB'), ('like', 'ADP'), ('to', 'PRT'), ('see', 'VERB'), ('flights', 'NOUN'), ('from', 'ADP'), ('Denver', 'NOUN'), ('to', 'PRT'), ('Philadelphia', 'NOUN'), ('.', '.')]\n",
      "[('Show', 'NOUN'), ('me', 'PRON'), ('the', 'DET'), ('price', 'NOUN'), ('of', 'ADP'), ('the', 'DET'), ('flights', 'NOUN'), ('leaving', 'VERB'), ('Atlanta', 'NOUN'), ('at', 'ADP'), ('about', 'ADP'), ('3', 'NUM'), ('in', 'ADP'), ('the', 'DET'), ('afternoon', 'NOUN'), ('and', 'CONJ'), ('arriving', 'VERB'), ('in', 'ADP'), ('San', 'NOUN'), ('Francisco', 'NOUN'), ('.', '.')]\n",
      "[('NASA', 'NOUN'), ('invited', 'VERB'), ('social', 'ADJ'), ('media', 'NOUN'), ('users', 'NOUN'), ('to', 'PRT'), ('experience', 'NOUN'), ('the', 'DET'), ('launch', 'NOUN'), ('of', 'ADP'), ('ICESAT-2', 'NOUN'), ('Satellite', 'NOUN'), ('.', '.')]\n"
     ]
    }
   ],
   "source": [
    "\n",
    "#Let us print the test lines with the updated Viterbi algorithm\n",
    "for line in stripped_lines:\n",
    "    print(list(Viterbi_updated_model_1(word_tokenize(line))))"
   ]
  },
  {
   "cell_type": "code",
   "execution_count": 52,
   "metadata": {},
   "outputs": [],
   "source": [
    "# Viterbi Heuristic\n",
    "def Viterbi_updated_model_2(words, train_bag = train_tagged_words):\n",
    "    state = []\n",
    "    T = list(set([pair[1] for pair in train_bag]))\n",
    "    \n",
    "    for key, word in enumerate(words):\n",
    "        #initialise list of probability column for a given observation\n",
    "        p = [] \n",
    "        for tag in T:\n",
    "            if key == 0:\n",
    "                transition_p = tags_df.loc['.', tag]\n",
    "            else:\n",
    "                transition_p = tags_df.loc[state[-1], tag]\n",
    "                \n",
    "            # compute emission and state probabilities\n",
    "            emission_p = word_given_tag(words[key], tag)[0]/word_given_tag(words[key], tag)[1]\n",
    "            state_probability = emission_p * transition_p    \n",
    "            p.append(state_probability)\n",
    "            \n",
    "        pmax = max(p)\n",
    "       \n",
    "        #Check if state probability is zero\n",
    "        if(pmax<0.001):\n",
    "            #If state probability is zero i.e if the word is unknown if updates the tag based on the brill tagger\n",
    "            state_max = brill_tagger.tag([word])[0][1]\n",
    "        else:\n",
    "            # getting state for which probability is maximum\n",
    "            state_max = T[p.index(pmax)] \n",
    "        state.append(state_max)\n",
    "    return list(zip(words, state))"
   ]
  },
  {
   "cell_type": "code",
   "execution_count": 53,
   "metadata": {},
   "outputs": [
    {
     "name": "stdout",
     "output_type": "stream",
     "text": [
      "43.97004818916321\n"
     ]
    }
   ],
   "source": [
    "# tagging the test sentences with the updated Viterbi algorithm \n",
    "start = time.time()\n",
    "updated_tagged_seq = Viterbi_updated_model_2(test_tagged_words)\n",
    "end = time.time()\n",
    "difference = end-start\n",
    "#Print total time taken to train the algorithm\n",
    "print(difference)"
   ]
  },
  {
   "cell_type": "code",
   "execution_count": 54,
   "metadata": {},
   "outputs": [
    {
     "data": {
      "text/plain": [
       "0.975"
      ]
     },
     "execution_count": 54,
     "metadata": {},
     "output_type": "execute_result"
    }
   ],
   "source": [
    "\n",
    "# Calculate the accuracy for the updated Viterbi algorithm - Model 2\n",
    "check = [i for i, j in zip(updated_tagged_seq, test_run_base) if i == j] \n",
    "accuracy = len(check)/len(updated_tagged_seq)\n",
    "accuracy"
   ]
  },
  {
   "cell_type": "code",
   "execution_count": null,
   "metadata": {},
   "outputs": [],
   "source": []
  }
 ],
 "metadata": {
  "kernelspec": {
   "display_name": "Python 3",
   "language": "python",
   "name": "python3"
  },
  "language_info": {
   "codemirror_mode": {
    "name": "ipython",
    "version": 3
   },
   "file_extension": ".py",
   "mimetype": "text/x-python",
   "name": "python",
   "nbconvert_exporter": "python",
   "pygments_lexer": "ipython3",
   "version": "3.7.6"
  }
 },
 "nbformat": 4,
 "nbformat_minor": 2
}
